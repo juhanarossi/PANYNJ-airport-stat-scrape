{
 "cells": [
  {
   "cell_type": "markdown",
   "metadata": {},
   "source": [
    "The cell below uses the built in URL Library to import the file from the web. `raw_html` holds the text of that file.\n",
    "\n",
    "In the following cell, printing raw_html gives us all the text that was in the file."
   ]
  },
  {
   "cell_type": "code",
   "execution_count": 31,
   "metadata": {},
   "outputs": [],
   "source": [
    "import requests\n",
    "my_url = \"https://www.panynj.gov/airports/en/statistics-general-info.html\"\n",
    "raw_html = requests.get(my_url).content"
   ]
  },
  {
   "cell_type": "code",
   "execution_count": 32,
   "metadata": {},
   "outputs": [
    {
     "name": "stdout",
     "output_type": "stream",
     "text": [
      "<class 'bytes'>\n"
     ]
    }
   ],
   "source": [
    "print(type(raw_html))"
   ]
  },
  {
   "cell_type": "code",
   "execution_count": 33,
   "metadata": {},
   "outputs": [
    {
     "name": "stdout",
     "output_type": "stream",
     "text": [
      "b'\\n<!DOCTYPE HTML>\\n<html lang=\"en\">\\n    <head>\\r\\n    <meta charset=\"UTF-8\"/>\\r\\n    <title>Port Authority of New York and New Jersey Airport Traffic Statistics </title>\\r\\n    \\r\\n    <meta name=\"description\" content=\"Learn more About the Monthly Summaries of Airport Activities for JFK, Newark, LaGuardia, Stewart and Teterboro Airports\"/>\\r\\n    <meta name=\"template\" content=\"page-template\"/>\\r\\n    \\n\\r\\n    \\r\\n\\r\\n<meta name=\"viewport\" content=\"width=device-width, initial-scale=1\"/>\\r\\n\\r\\n\\r\\n\\r\\n<meta property=\"cq:pagemodel_root_url\" content=\"/content/airports/en.model.json\"/>\\r\\n\\r\\n    \\n    \\n<link rel=\"stylesheet\" href=\"/etc.clientlibs/portauthority/clientlibs/portauthority-react.min.49aacb59651cc293d73a2fc06d500726.css\" type=\"text/css\">\\n\\n\\n\\r\\n\\r\\n\\r\\n<script>\\r\\n\\t;(function(w, d, s, l, i) {\\r\\n\\t\\tw[l] = w[l] || []\\r\\n\\t\\tw[l].push({\\r\\n\\t\\t\\t\\'gtm.start\\': new Date().getTime(),\\r\\n\\t\\t\\tevent: \\'gtm.js\\'\\r\\n\\t\\t})\\r\\n\\t\\tvar f = d.getElementsByTagName(s)[0],\\r\\n\\t\\t\\tj = d.createElement(s),\\r\\n\\t\\t\\tdl = l != \\'dataLayer\\' ? \\'&l=\\' + l : \\'\\'\\r\\n\\t\\tj.async = true\\r\\n\\t\\tj.src =\\r\\n\\t\\t\\t\\'https://www.googletagmanager.com/gtm.js?id=\\' + i + dl\\r\\n\\t\\tf.parentNode.insertBefore(j, f)\\r\\n\\t})(window, document, \\'script\\', \\'dataLayer\\', \"GTM-5DZH2R\")\\r\\n</script>\\r\\n\\r\\n    \\n    \\n    \\r\\n\\n    \\n\\n    \\n    \\n    \\n\\r\\n    \\r\\n</head>\\n    <body class=\"page basicpage\">\\n        \\n        \\n            \\n\\n\\n\\n            \\r\\n\\r\\n\\r\\n<noscript><iframe title=\"googletagmanager\" src=\"https://www.googletagmanager.com/ns.html?id=GTM-5DZH2R\" height=\"0\" width=\"0\" style=\"display:none;visibility:hidden\"></iframe></noscript>\\r\\n\\r\\n<div id=\"page\"></div>\\r\\n\\r\\n\\n            \\n    \\n    \\r\\n\\r\\n\\r\\n\\n    \\n<script src=\"/etc.clientlibs/portauthority/clientlibs/portauthority-react.min.js\"></script>\\n\\n\\n\\r\\n<script>\\r\\n  function _reciteLoaded() {\\r\\n    var html = document.querySelectorAll(\"html\");\\r\\n    for (var i = 0; i < html.length; i++) {\\r\\n      if (html[i]) {\\r\\n        html[i].setAttribute(\"lang\", \"en-us\");\\r\\n      }\\r\\n    }\\r\\n    var navBar = document.querySelectorAll(\".NavGlobal-desktop-links li\");\\r\\n    for (var i = 0; i < navBar.length; i++) {\\r\\n      if (navBar[i]) {\\r\\n        navBar[i].setAttribute(\"style\", \"padding-top:25px !important\");\\r\\n      }\\r\\n    }\\r\\n      setTimeout(function () {\\r\\n          var textPdfs =document.querySelectorAll(\".Text a \");\\r\\n          for (var i = 0 ; i < textPdfs.length; i++) {\\r\\n              if (textPdfs[i] && textPdfs[i].href && textPdfs[i].href.indexOf(\\'.pdf\\') !== -1) {\\r\\n                  textPdfs[i].classList += \" docreader\" ;\\r\\n              }\\r\\n          }\\r\\n          if( typeof(Recite)!= \\'undefined\\' && Recite.isEnabled() ){\\r\\n              Recite.Docreader.load();\\r\\n          }\\r\\n      }, 1000);\\r\\n      setTimeout(function () {\\r\\n          var ctaPdfs = document.querySelectorAll(\".CTABreaker a \");\\r\\n          for (var i = 0 ; i < ctaPdfs.length; i++) {\\r\\n              if (ctaPdfs[i] && ctaPdfs[i].href && ctaPdfs[i].href.indexOf(\\'.pdf\\') !== -1) {\\r\\n                  ctaPdfs[i].classList += \" docreader\" ;\\r\\n              }\\r\\n          }\\r\\n          if( typeof(Recite)!= \\'undefined\\' && Recite.isEnabled() ){\\r\\n              Recite.Docreader.load();\\r\\n          }\\r\\n      }, 1000)\\r\\n  }\\r\\n  var serviceUrl = \"https://api.reciteme.com/asset/js?key=\";\\r\\n  var serviceKey = \"4436ad3672f26626af1ddfd4af85cc50f9772e94\";\\r\\n  var options = {\\r\\n    Tracker: {\\r\\n      Ga: {\\r\\n        enabled: true,\\r\\n        trackerName: \"gtm12\",\\r\\n      }\\r\\n    }\\r\\n  }; // Options can be added as needed\\r\\n  var autoLoad = false;\\r\\n  var enableFragment = \"#reciteEnable\";\\r\\n  var loaded = [], frag = !1;\\r\\n  window.location.hash === enableFragment && (frag = !0);\\r\\n  function loadScript(c, b) {\\r\\n        var a = document.createElement(\"script\");\\r\\n        a.type = \"text/javascript\";\\r\\n        a.readyState ? a.onreadystatechange = function () {\\r\\n            if (\"loaded\" == a.readyState || \"complete\" == a.readyState) a.onreadystatechange = null, void 0 != b && b()\\r\\n        } : void 0 != b && (a.onload = function () {\\r\\n            b()\\r\\n        });\\r\\n        a.src = c;\\r\\n        document.getElementsByTagName(\"head\")[0].appendChild(a)\\r\\n    }\\r\\n\\r\\n    function _rc(c) {\\r\\n        c += \"=\";\\r\\n        for (var b = document.cookie.split(\";\"), a = 0; a < b.length; a++) {\\r\\n            for (var d = b[a]; \" \" == d.charAt(0);) d = d.substring(1, d.length);\\r\\n            if (0 == d.indexOf(c)) return d.substring(c.length, d.length)\\r\\n        }\\r\\n        return null\\r\\n    }\\r\\n\\r\\n    function loadService(c) {\\r\\n        for (var b = serviceUrl + serviceKey, a = 0; a < loaded.length; a++) if (loaded[a] == b) return;\\r\\n        loaded.push(b);\\r\\n        loadScript(serviceUrl + serviceKey, function () {\\r\\n            \"function\" === typeof _reciteLoaded && _reciteLoaded();\\r\\n            \"function\" == typeof c && c();\\r\\n            Recite.load(options);\\r\\n            Recite.Event.subscribe(\"Recite:load\", function () {\\r\\n                Recite.enable()\\r\\n            })\\r\\n            Recite.Event.subscribe(\"Recite:disable\", function () {\\r\\n                window.sessionStorage.setItem(\"recite-close-called\", \"true\");\\r\\n            })\\r\\n        })\\r\\n    }\\r\\n\\r\\n    \"true\" == _rc(\"Recite.Persist\") && loadService();\\r\\n    if (autoLoad && \"false\" != _rc(\"Recite.Persist\") || frag) document.addEventListener ? document.addEventListener(\"DOMContentLoaded\", function (c) {\\r\\n        loadService()\\r\\n    }) : loadService();\\r\\n</script>\\r\\n\\n    \\r\\n\\n    \\n\\n\\n            \\n\\n        \\n    </body>\\n</html>\\n'\n"
     ]
    }
   ],
   "source": [
    "print(raw_html)"
   ]
  },
  {
   "cell_type": "code",
   "execution_count": 34,
   "metadata": {},
   "outputs": [],
   "source": [
    "from bs4 import BeautifulSoup"
   ]
  },
  {
   "cell_type": "code",
   "execution_count": 35,
   "metadata": {},
   "outputs": [
    {
     "name": "stdout",
     "output_type": "stream",
     "text": [
      "<class 'bs4.BeautifulSoup'>\n"
     ]
    }
   ],
   "source": [
    "soup_doc = BeautifulSoup(raw_html, \"html.parser\")\n",
    "print(type(soup_doc))"
   ]
  },
  {
   "cell_type": "code",
   "execution_count": 36,
   "metadata": {},
   "outputs": [
    {
     "name": "stdout",
     "output_type": "stream",
     "text": [
      "<!DOCTYPE HTML>\n",
      "<html lang=\"en\">\n",
      " <head>\n",
      "  <meta charset=\"utf-8\"/>\n",
      "  <title>\n",
      "   Port Authority of New York and New Jersey Airport Traffic Statistics\n",
      "  </title>\n",
      "  <meta content=\"Learn more About the Monthly Summaries of Airport Activities for JFK, Newark, LaGuardia, Stewart and Teterboro Airports\" name=\"description\"/>\n",
      "  <meta content=\"page-template\" name=\"template\"/>\n",
      "  <meta content=\"width=device-width, initial-scale=1\" name=\"viewport\"/>\n",
      "  <meta content=\"/content/airports/en.model.json\" property=\"cq:pagemodel_root_url\"/>\n",
      "  <link href=\"/etc.clientlibs/portauthority/clientlibs/portauthority-react.min.49aacb59651cc293d73a2fc06d500726.css\" rel=\"stylesheet\" type=\"text/css\"/>\n",
      "  <script>\n",
      "   ;(function(w, d, s, l, i) {\r\n",
      "\t\tw[l] = w[l] || []\r\n",
      "\t\tw[l].push({\r\n",
      "\t\t\t'gtm.start': new Date().getTime(),\r\n",
      "\t\t\tevent: 'gtm.js'\r\n",
      "\t\t})\r\n",
      "\t\tvar f = d.getElementsByTagName(s)[0],\r\n",
      "\t\t\tj = d.createElement(s),\r\n",
      "\t\t\tdl = l != 'dataLayer' ? '&l=' + l : ''\r\n",
      "\t\tj.async = true\r\n",
      "\t\tj.src =\r\n",
      "\t\t\t'https://www.googletagmanager.com/gtm.js?id=' + i + dl\r\n",
      "\t\tf.parentNode.insertBefore(j, f)\r\n",
      "\t})(window, document, 'script', 'dataLayer', \"GTM-5DZH2R\")\n",
      "  </script>\n",
      " </head>\n",
      " <body class=\"page basicpage\">\n",
      "  <noscript>\n",
      "   <iframe height=\"0\" src=\"https://www.googletagmanager.com/ns.html?id=GTM-5DZH2R\" style=\"display:none;visibility:hidden\" title=\"googletagmanager\" width=\"0\">\n",
      "   </iframe>\n",
      "  </noscript>\n",
      "  <div id=\"page\">\n",
      "  </div>\n",
      "  <script src=\"/etc.clientlibs/portauthority/clientlibs/portauthority-react.min.js\">\n",
      "  </script>\n",
      "  <script>\n",
      "   function _reciteLoaded() {\r\n",
      "    var html = document.querySelectorAll(\"html\");\r\n",
      "    for (var i = 0; i < html.length; i++) {\r\n",
      "      if (html[i]) {\r\n",
      "        html[i].setAttribute(\"lang\", \"en-us\");\r\n",
      "      }\r\n",
      "    }\r\n",
      "    var navBar = document.querySelectorAll(\".NavGlobal-desktop-links li\");\r\n",
      "    for (var i = 0; i < navBar.length; i++) {\r\n",
      "      if (navBar[i]) {\r\n",
      "        navBar[i].setAttribute(\"style\", \"padding-top:25px !important\");\r\n",
      "      }\r\n",
      "    }\r\n",
      "      setTimeout(function () {\r\n",
      "          var textPdfs =document.querySelectorAll(\".Text a \");\r\n",
      "          for (var i = 0 ; i < textPdfs.length; i++) {\r\n",
      "              if (textPdfs[i] && textPdfs[i].href && textPdfs[i].href.indexOf('.pdf') !== -1) {\r\n",
      "                  textPdfs[i].classList += \" docreader\" ;\r\n",
      "              }\r\n",
      "          }\r\n",
      "          if( typeof(Recite)!= 'undefined' && Recite.isEnabled() ){\r\n",
      "              Recite.Docreader.load();\r\n",
      "          }\r\n",
      "      }, 1000);\r\n",
      "      setTimeout(function () {\r\n",
      "          var ctaPdfs = document.querySelectorAll(\".CTABreaker a \");\r\n",
      "          for (var i = 0 ; i < ctaPdfs.length; i++) {\r\n",
      "              if (ctaPdfs[i] && ctaPdfs[i].href && ctaPdfs[i].href.indexOf('.pdf') !== -1) {\r\n",
      "                  ctaPdfs[i].classList += \" docreader\" ;\r\n",
      "              }\r\n",
      "          }\r\n",
      "          if( typeof(Recite)!= 'undefined' && Recite.isEnabled() ){\r\n",
      "              Recite.Docreader.load();\r\n",
      "          }\r\n",
      "      }, 1000)\r\n",
      "  }\r\n",
      "  var serviceUrl = \"https://api.reciteme.com/asset/js?key=\";\r\n",
      "  var serviceKey = \"4436ad3672f26626af1ddfd4af85cc50f9772e94\";\r\n",
      "  var options = {\r\n",
      "    Tracker: {\r\n",
      "      Ga: {\r\n",
      "        enabled: true,\r\n",
      "        trackerName: \"gtm12\",\r\n",
      "      }\r\n",
      "    }\r\n",
      "  }; // Options can be added as needed\r\n",
      "  var autoLoad = false;\r\n",
      "  var enableFragment = \"#reciteEnable\";\r\n",
      "  var loaded = [], frag = !1;\r\n",
      "  window.location.hash === enableFragment && (frag = !0);\r\n",
      "  function loadScript(c, b) {\r\n",
      "        var a = document.createElement(\"script\");\r\n",
      "        a.type = \"text/javascript\";\r\n",
      "        a.readyState ? a.onreadystatechange = function () {\r\n",
      "            if (\"loaded\" == a.readyState || \"complete\" == a.readyState) a.onreadystatechange = null, void 0 != b && b()\r\n",
      "        } : void 0 != b && (a.onload = function () {\r\n",
      "            b()\r\n",
      "        });\r\n",
      "        a.src = c;\r\n",
      "        document.getElementsByTagName(\"head\")[0].appendChild(a)\r\n",
      "    }\r\n",
      "\r\n",
      "    function _rc(c) {\r\n",
      "        c += \"=\";\r\n",
      "        for (var b = document.cookie.split(\";\"), a = 0; a < b.length; a++) {\r\n",
      "            for (var d = b[a]; \" \" == d.charAt(0);) d = d.substring(1, d.length);\r\n",
      "            if (0 == d.indexOf(c)) return d.substring(c.length, d.length)\r\n",
      "        }\r\n",
      "        return null\r\n",
      "    }\r\n",
      "\r\n",
      "    function loadService(c) {\r\n",
      "        for (var b = serviceUrl + serviceKey, a = 0; a < loaded.length; a++) if (loaded[a] == b) return;\r\n",
      "        loaded.push(b);\r\n",
      "        loadScript(serviceUrl + serviceKey, function () {\r\n",
      "            \"function\" === typeof _reciteLoaded && _reciteLoaded();\r\n",
      "            \"function\" == typeof c && c();\r\n",
      "            Recite.load(options);\r\n",
      "            Recite.Event.subscribe(\"Recite:load\", function () {\r\n",
      "                Recite.enable()\r\n",
      "            })\r\n",
      "            Recite.Event.subscribe(\"Recite:disable\", function () {\r\n",
      "                window.sessionStorage.setItem(\"recite-close-called\", \"true\");\r\n",
      "            })\r\n",
      "        })\r\n",
      "    }\r\n",
      "\r\n",
      "    \"true\" == _rc(\"Recite.Persist\") && loadService();\r\n",
      "    if (autoLoad && \"false\" != _rc(\"Recite.Persist\") || frag) document.addEventListener ? document.addEventListener(\"DOMContentLoaded\", function (c) {\r\n",
      "        loadService()\r\n",
      "    }) : loadService();\n",
      "  </script>\n",
      " </body>\n",
      "</html>\n",
      "\n"
     ]
    }
   ],
   "source": [
    "print(soup_doc.prettify())\n",
    "#print(soup_doc)"
   ]
  },
  {
   "cell_type": "markdown",
   "metadata": {},
   "source": [
    "When you are first getting comfortable with beautiful soup, it is wise to use the .find() notation. find() searches for the first instance of a tag, and returns the contents of the tag as well as its tags. (Remember .string strips away the tags)"
   ]
  },
  {
   "cell_type": "code",
   "execution_count": 43,
   "metadata": {},
   "outputs": [],
   "source": [
    "links = soup_doc.select(\"li.title a\")"
   ]
  },
  {
   "cell_type": "markdown",
   "metadata": {
    "collapsed": true
   },
   "source": [
    "Most often when we are scraping HTML simply finding one tag will not do the trick. We need to navigate hierarchically down the tree of nested tags. We'll begin by searching the first list that is contained in the first `<div>` tag. Since we are looking for the first occurrence, we can use .find()"
   ]
  },
  {
   "cell_type": "code",
   "execution_count": 38,
   "metadata": {},
   "outputs": [
    {
     "data": {
      "text/plain": [
       "<body class=\"page basicpage\">\n",
       "<noscript><iframe height=\"0\" src=\"https://www.googletagmanager.com/ns.html?id=GTM-5DZH2R\" style=\"display:none;visibility:hidden\" title=\"googletagmanager\" width=\"0\"></iframe></noscript>\n",
       "<div id=\"page\"></div>\n",
       "<script src=\"/etc.clientlibs/portauthority/clientlibs/portauthority-react.min.js\"></script>\n",
       "<script>\n",
       "  function _reciteLoaded() {\n",
       "    var html = document.querySelectorAll(\"html\");\n",
       "    for (var i = 0; i < html.length; i++) {\n",
       "      if (html[i]) {\n",
       "        html[i].setAttribute(\"lang\", \"en-us\");\n",
       "      }\n",
       "    }\n",
       "    var navBar = document.querySelectorAll(\".NavGlobal-desktop-links li\");\n",
       "    for (var i = 0; i < navBar.length; i++) {\n",
       "      if (navBar[i]) {\n",
       "        navBar[i].setAttribute(\"style\", \"padding-top:25px !important\");\n",
       "      }\n",
       "    }\n",
       "      setTimeout(function () {\n",
       "          var textPdfs =document.querySelectorAll(\".Text a \");\n",
       "          for (var i = 0 ; i < textPdfs.length; i++) {\n",
       "              if (textPdfs[i] && textPdfs[i].href && textPdfs[i].href.indexOf('.pdf') !== -1) {\n",
       "                  textPdfs[i].classList += \" docreader\" ;\n",
       "              }\n",
       "          }\n",
       "          if( typeof(Recite)!= 'undefined' && Recite.isEnabled() ){\n",
       "              Recite.Docreader.load();\n",
       "          }\n",
       "      }, 1000);\n",
       "      setTimeout(function () {\n",
       "          var ctaPdfs = document.querySelectorAll(\".CTABreaker a \");\n",
       "          for (var i = 0 ; i < ctaPdfs.length; i++) {\n",
       "              if (ctaPdfs[i] && ctaPdfs[i].href && ctaPdfs[i].href.indexOf('.pdf') !== -1) {\n",
       "                  ctaPdfs[i].classList += \" docreader\" ;\n",
       "              }\n",
       "          }\n",
       "          if( typeof(Recite)!= 'undefined' && Recite.isEnabled() ){\n",
       "              Recite.Docreader.load();\n",
       "          }\n",
       "      }, 1000)\n",
       "  }\n",
       "  var serviceUrl = \"https://api.reciteme.com/asset/js?key=\";\n",
       "  var serviceKey = \"4436ad3672f26626af1ddfd4af85cc50f9772e94\";\n",
       "  var options = {\n",
       "    Tracker: {\n",
       "      Ga: {\n",
       "        enabled: true,\n",
       "        trackerName: \"gtm12\",\n",
       "      }\n",
       "    }\n",
       "  }; // Options can be added as needed\n",
       "  var autoLoad = false;\n",
       "  var enableFragment = \"#reciteEnable\";\n",
       "  var loaded = [], frag = !1;\n",
       "  window.location.hash === enableFragment && (frag = !0);\n",
       "  function loadScript(c, b) {\n",
       "        var a = document.createElement(\"script\");\n",
       "        a.type = \"text/javascript\";\n",
       "        a.readyState ? a.onreadystatechange = function () {\n",
       "            if (\"loaded\" == a.readyState || \"complete\" == a.readyState) a.onreadystatechange = null, void 0 != b && b()\n",
       "        } : void 0 != b && (a.onload = function () {\n",
       "            b()\n",
       "        });\n",
       "        a.src = c;\n",
       "        document.getElementsByTagName(\"head\")[0].appendChild(a)\n",
       "    }\n",
       "\n",
       "    function _rc(c) {\n",
       "        c += \"=\";\n",
       "        for (var b = document.cookie.split(\";\"), a = 0; a < b.length; a++) {\n",
       "            for (var d = b[a]; \" \" == d.charAt(0);) d = d.substring(1, d.length);\n",
       "            if (0 == d.indexOf(c)) return d.substring(c.length, d.length)\n",
       "        }\n",
       "        return null\n",
       "    }\n",
       "\n",
       "    function loadService(c) {\n",
       "        for (var b = serviceUrl + serviceKey, a = 0; a < loaded.length; a++) if (loaded[a] == b) return;\n",
       "        loaded.push(b);\n",
       "        loadScript(serviceUrl + serviceKey, function () {\n",
       "            \"function\" === typeof _reciteLoaded && _reciteLoaded();\n",
       "            \"function\" == typeof c && c();\n",
       "            Recite.load(options);\n",
       "            Recite.Event.subscribe(\"Recite:load\", function () {\n",
       "                Recite.enable()\n",
       "            })\n",
       "            Recite.Event.subscribe(\"Recite:disable\", function () {\n",
       "                window.sessionStorage.setItem(\"recite-close-called\", \"true\");\n",
       "            })\n",
       "        })\n",
       "    }\n",
       "\n",
       "    \"true\" == _rc(\"Recite.Persist\") && loadService();\n",
       "    if (autoLoad && \"false\" != _rc(\"Recite.Persist\") || frag) document.addEventListener ? document.addEventListener(\"DOMContentLoaded\", function (c) {\n",
       "        loadService()\n",
       "    }) : loadService();\n",
       "</script>\n",
       "</body>"
      ]
     },
     "execution_count": 38,
     "metadata": {},
     "output_type": "execute_result"
    }
   ],
   "source": [
    "soup_doc.find('body')"
   ]
  },
  {
   "cell_type": "markdown",
   "metadata": {},
   "source": [
    "Below, we navigate the tree: starting at the outer `<div>` tag, and then we use find_all() to get a list of every `<p>` tag nested inside. After that we loop through the list of `<p>` tags, and pull out the text that is inside the `<b>` tag, using `string` to get us just the name of the movies with no tags around it."
   ]
  },
  {
   "cell_type": "code",
   "execution_count": 41,
   "metadata": {},
   "outputs": [],
   "source": [
    "first_div = soup_doc.find('body')\n",
    "#first_div Is a variable that contains all HTML in the first div \n",
    "page = first_div.find_all('div')\n",
    "#.find_all() gives us a list\n",
    "#so to search elements inside that list \n",
    "#we now need to loop through it\n",
    "#for movies in all_paragraphs:\n",
    "    #print(movies.find('b').string)"
   ]
  },
  {
   "cell_type": "markdown",
   "metadata": {},
   "source": [
    "**More on find_all()**\n",
    "\n",
    "If there are more than one of the same tags, find_all() gives us a list. We can use list notation to get a specific element in the list. The first cell below gives us a list of every single `<p>` tag in the document. In the following cell, we get a list of all of the `<p>` tags inside the first `<div>`. Try changing the index number `[0]` for each of these lists to see what you get."
   ]
  },
  {
   "cell_type": "code",
   "execution_count": 20,
   "metadata": {},
   "outputs": [
    {
     "data": {
      "text/plain": [
       "<p><b> The Dark Knight</b> <span class=\"year\">2008</span></p>"
      ]
     },
     "execution_count": 20,
     "metadata": {},
     "output_type": "execute_result"
    }
   ],
   "source": [
    "soup_doc.find_all('p')[2]\n",
    "# uncomment the line below to see the full list\n",
    "#soup_doc.find_all('p')"
   ]
  },
  {
   "cell_type": "code",
   "execution_count": 12,
   "metadata": {},
   "outputs": [
    {
     "data": {
      "text/plain": [
       "[]"
      ]
     },
     "execution_count": 12,
     "metadata": {},
     "output_type": "execute_result"
    }
   ],
   "source": [
    "soup_doc.find('div').find_all('li')\n",
    "#soup_doc.find('div').find_all('p')"
   ]
  },
  {
   "cell_type": "markdown",
   "metadata": {},
   "source": [
    "Here is a one-line search down the tree. Note that I specify the index number of the `<p>` tag I want to search further. Again, if I wanted to search all of the `<p>` tags, I would need to use a loop."
   ]
  },
  {
   "cell_type": "code",
   "execution_count": 22,
   "metadata": {},
   "outputs": [
    {
     "data": {
      "text/plain": [
       "' Avengers: Age Of Ultron'"
      ]
     },
     "execution_count": 22,
     "metadata": {},
     "output_type": "execute_result"
    }
   ],
   "source": [
    "soup_doc.find('div').find_all('p')[2].find('b').string\n",
    "#soup_doc.div.find_all('p')[2].b.string ##Same thing but shorter"
   ]
  },
  {
   "cell_type": "markdown",
   "metadata": {},
   "source": [
    "These are two examples of searching the first list and pulling it out the name and date of the third movie in the list [2] -- try changing that index number to get movies in the list."
   ]
  },
  {
   "cell_type": "code",
   "execution_count": 23,
   "metadata": {},
   "outputs": [
    {
     "name": "stdout",
     "output_type": "stream",
     "text": [
      "<b> Avengers: Age Of Ultron</b> <span class=\"year\">2015</span>\n"
     ]
    }
   ],
   "source": [
    "that_movie = soup_doc.find('div').find_all('p')[2]\n",
    "movie_name = that_movie.find('b')\n",
    "movie_year = that_movie.find('span')\n",
    "print(movie_name, movie_year)"
   ]
  },
  {
   "cell_type": "code",
   "execution_count": 24,
   "metadata": {},
   "outputs": [
    {
     "name": "stdout",
     "output_type": "stream",
     "text": [
      " Avengers: Age Of Ultron || 2015\n"
     ]
    }
   ],
   "source": [
    "that_movie = soup_doc.find('div').find_all('p')[2]\n",
    "movie_name = that_movie.b\n",
    "movie_year = that_movie.find('span')\n",
    "print(movie_name.string, \"||\", movie_year.string)"
   ]
  },
  {
   "cell_type": "markdown",
   "metadata": {},
   "source": [
    "Now we get the next list (the second `<div>` or list element [1]) and then pull out all of the names and dates by using a loop."
   ]
  },
  {
   "cell_type": "code",
   "execution_count": 25,
   "metadata": {},
   "outputs": [
    {
     "name": "stdout",
     "output_type": "stream",
     "text": [
      "[<p><b> The Incredible Hulk</b> <span class=\"year\">2008</span> <a href=\"https://www.boxofficemojo.com/release/rl2791015937/\">more info</a></p>, <p><b> Wanted</b> <span class=\"year\">2008</span></p>, <p id=\"favorite\"><b> Superman</b> <span class=\"year\">1978</span></p>, <p> The Wolverine<span class=\"year\">2013</span></p>, <p><b> Hulk</b> <span class=\"year\">2003</span></p>]\n"
     ]
    }
   ],
   "source": [
    "next_list = soup_doc.find_all('div')[1]\n",
    "#print(next_list)\n",
    "next_movies = next_list.find_all('p')\n",
    "print(next_movies)"
   ]
  },
  {
   "cell_type": "code",
   "execution_count": 26,
   "metadata": {},
   "outputs": [
    {
     "name": "stdout",
     "output_type": "stream",
     "text": [
      " The Incredible Hulk || 2008\n",
      " Wanted || 2008\n",
      " Superman || 1978\n"
     ]
    },
    {
     "ename": "AttributeError",
     "evalue": "'NoneType' object has no attribute 'string'",
     "output_type": "error",
     "traceback": [
      "\u001b[1;31m---------------------------------------------------------------------------\u001b[0m",
      "\u001b[1;31mAttributeError\u001b[0m                            Traceback (most recent call last)",
      "Cell \u001b[1;32mIn [26], line 4\u001b[0m\n\u001b[0;32m      2\u001b[0m movie_name \u001b[38;5;241m=\u001b[39m movie\u001b[38;5;241m.\u001b[39mb\n\u001b[0;32m      3\u001b[0m movie_year \u001b[38;5;241m=\u001b[39m movie\u001b[38;5;241m.\u001b[39mspan\n\u001b[1;32m----> 4\u001b[0m \u001b[38;5;28mprint\u001b[39m(\u001b[43mmovie_name\u001b[49m\u001b[38;5;241;43m.\u001b[39;49m\u001b[43mstring\u001b[49m, \u001b[38;5;124m\"\u001b[39m\u001b[38;5;124m||\u001b[39m\u001b[38;5;124m\"\u001b[39m, movie_year\u001b[38;5;241m.\u001b[39mstring)\n",
      "\u001b[1;31mAttributeError\u001b[0m: 'NoneType' object has no attribute 'string'"
     ]
    }
   ],
   "source": [
    "for movie in next_movies:\n",
    "    movie_name = movie.b\n",
    "    movie_year = movie.span\n",
    "    print(movie_name.string, \"||\", movie_year.string)"
   ]
  },
  {
   "cell_type": "markdown",
   "metadata": {},
   "source": [
    "Oh no! What just happened? I mean, yay, an error--something to learn from! What might have gone wrong? 'NoneType'  means that something wasn't successfully found. Well it worked all the way to Superman, but it broke on The Wolverine. Why? Think about it, and then look at the following way to deal with this problem."
   ]
  },
  {
   "cell_type": "code",
   "execution_count": null,
   "metadata": {},
   "outputs": [],
   "source": [
    "for movie in next_movies:\n",
    "    movie_name = movie.b\n",
    "    if movie_name is None: \n",
    "        movie_name = 'Problem##!!!' #It's movie.span.previous from below\n",
    "    else:\n",
    "        movie_name = movie_name.string\n",
    "    movie_year = movie.find('span')\n",
    "    print(movie_name, \"||\", movie_year.string)"
   ]
  },
  {
   "cell_type": "markdown",
   "metadata": {},
   "source": [
    "Now the loop isn't breaking!  But what was the problem, and how do we fix it? Think about it. Or try doing the next thing and come back to this."
   ]
  },
  {
   "cell_type": "code",
   "execution_count": null,
   "metadata": {},
   "outputs": [],
   "source": [
    "# edit that loop above to get the missing movie name in there.\n",
    "for movie in next_movies:\n",
    "    movie_name = movie.b\n",
    "    if movie_name is None: \n",
    "        movie_name = movie.span.previous\n",
    "    else:\n",
    "        movie_name = movie_name.string\n",
    "    movie_year = movie.find('span')\n",
    "    print(movie_name, \"||\", movie_year.string)"
   ]
  },
  {
   "cell_type": "markdown",
   "metadata": {},
   "source": [
    "**get_text() vs string=True vs stripped_string**\n",
    "\n",
    "Sometimes HTML tags are more trouble than they are worth. Especially when they are inconsistent, they can cause problems and get in the way. There are few ways to grab out the text. It becomes less structured--we have less control over its format--which may cause  different problems. \n",
    "\n",
    "Here are three different ways to grab text out of the tags, each with its own fun complications."
   ]
  },
  {
   "cell_type": "code",
   "execution_count": 27,
   "metadata": {},
   "outputs": [
    {
     "name": "stdout",
     "output_type": "stream",
     "text": [
      " The Incredible Hulk 2008 more info\n",
      " Wanted 2008\n",
      " Superman 1978\n",
      " The Wolverine2013\n",
      " Hulk 2003\n"
     ]
    }
   ],
   "source": [
    "#strings\n",
    "for movie in next_movies:\n",
    "    movie_stuff = movie.get_text()\n",
    "    #movie_stuff = movie.text\n",
    "    #movie_stuff = movie.get_text('|',strip=True)\n",
    "#append!!!\n",
    "    print(movie_stuff)"
   ]
  },
  {
   "cell_type": "code",
   "execution_count": 28,
   "metadata": {},
   "outputs": [
    {
     "name": "stdout",
     "output_type": "stream",
     "text": [
      "[' The Incredible Hulk', ' ', '2008', ' ', 'more info']\n",
      "[' Wanted', ' ', '2008']\n",
      "[' Superman', ' ', '1978']\n",
      "[' The Wolverine', '2013']\n",
      "[' Hulk', ' ', '2003']\n"
     ]
    }
   ],
   "source": [
    "#list\n",
    "for movie in next_movies:\n",
    "    movie_stuff = movie.find_all(string=True)\n",
    "    print(movie_stuff)"
   ]
  },
  {
   "cell_type": "code",
   "execution_count": 29,
   "metadata": {},
   "outputs": [
    {
     "name": "stdout",
     "output_type": "stream",
     "text": [
      "The Incredible Hulk\n",
      "2008\n",
      "more info\n",
      "Wanted\n",
      "2008\n",
      "Superman\n",
      "1978\n",
      "The Wolverine\n",
      "2013\n",
      "Hulk\n",
      "2003\n"
     ]
    }
   ],
   "source": [
    "#generator\n",
    "for movie in next_movies:\n",
    "    for string in movie.stripped_strings:\n",
    "        print(string)"
   ]
  },
  {
   "cell_type": "markdown",
   "metadata": {},
   "source": [
    "**next_element and previous_element / find_next and find_previous**\n",
    "\n",
    "Sometimes things are less nicely defined and less easy to find, and you just want to look for next-door neighbors. These can be very handy, moving forward and backwards along the parsed elements."
   ]
  },
  {
   "cell_type": "markdown",
   "metadata": {},
   "source": [
    "To get the third list, we could have gotten `<div>` [2], but because it has a unique `<ul>` parent tag--we go straight for that.\n",
    "\n",
    "Now try this: get 'Ghost in the Shell' out of that list. Hint: next/previous will help."
   ]
  },
  {
   "cell_type": "code",
   "execution_count": null,
   "metadata": {},
   "outputs": [],
   "source": [
    "#third_list = soup_doc.find_all('div')[2].find('li')\n",
    "third_list = soup_doc.ul\n",
    "print(third_list)\n",
    "\n"
   ]
  },
  {
   "cell_type": "code",
   "execution_count": null,
   "metadata": {},
   "outputs": [],
   "source": [
    "#ghost = ??\n",
    "third_list.find_all('li')[3].span.previous"
   ]
  },
  {
   "cell_type": "markdown",
   "metadata": {},
   "source": [
    "**Parents, children, and siblings**\n",
    "\n",
    "So far we have navigated the DOM tree from parent to child-- div > p > b \n",
    "\n",
    "And we've seen that we can move side-to-side generally. But the NEXT elements ignore hierarchy, which can be useful.\n",
    "\n",
    "Sometimes you want to go the opposite direction, find a unique identifier inside a container and then get everything in the container. For example, as we saw the third list has a unique `<ul>` tag. If he wanted to get everything that is inside the same parent container (the `<div>`) we could do something like this:"
   ]
  },
  {
   "cell_type": "code",
   "execution_count": null,
   "metadata": {},
   "outputs": [],
   "source": [
    "soup_doc.find('ul').parent"
   ]
  },
  {
   "cell_type": "markdown",
   "metadata": {},
   "source": [
    "You can also go sideways, meaning finding siblings--elements that are in the same container at the same level of the hierarchy. As you've seen, the fourth list is not in its own div. To get the fourth list we could use the unique `<h2>` to get all of the siblings that come after it."
   ]
  },
  {
   "cell_type": "code",
   "execution_count": null,
   "metadata": {},
   "outputs": [],
   "source": [
    "last_head = soup_doc.find('h2')\n",
    "last_list = last_head.find_next_siblings()\n",
    "last_list\n"
   ]
  },
  {
   "cell_type": "markdown",
   "metadata": {},
   "source": [
    "We can even specify what kind siblings you want to find--notice how that's final \"that's all\" showed up. We can search for all of the next `<p>` tags. (There is also a previous_siblings function goes backwards.)"
   ]
  },
  {
   "cell_type": "code",
   "execution_count": null,
   "metadata": {},
   "outputs": [],
   "source": [
    "last_head = soup_doc.find('h2')\n",
    "last_list = last_head.find_next_siblings('p')\n",
    "last_list"
   ]
  },
  {
   "cell_type": "markdown",
   "metadata": {},
   "source": [
    "**Searching id and class**\n",
    "\n",
    "Most websites these days use id and class attributes to style (and run code) on their webpages. These can be some of the most helpful attributes to search for to find certain types/groups of information."
   ]
  },
  {
   "cell_type": "code",
   "execution_count": 31,
   "metadata": {},
   "outputs": [
    {
     "name": "stdout",
     "output_type": "stream",
     "text": [
      "[<span class=\"year\">2010</span>, <span class=\"year\">2008</span>, <span class=\"year\">2015</span>, <span class=\"year\">2012</span>, <span class=\"year\">2013</span>, <span class=\"year\">2008</span>, <span class=\"year\">2008</span>, <span class=\"year\">1978</span>, <span class=\"year\">2013</span>, <span class=\"year\">2003</span>, <span class=\"year\">1991</span>, <span class=\"year\">1994</span>, <span class=\"year\">1993</span>, <span class=\"year\">2017</span>, <span class=\"year\">2004</span>]\n"
     ]
    },
    {
     "ename": "AttributeError",
     "evalue": "'NoneType' object has no attribute 'string'",
     "output_type": "error",
     "traceback": [
      "\u001b[1;31m---------------------------------------------------------------------------\u001b[0m",
      "\u001b[1;31mAttributeError\u001b[0m                            Traceback (most recent call last)",
      "Cell \u001b[1;32mIn [31], line 3\u001b[0m\n\u001b[0;32m      1\u001b[0m \u001b[38;5;66;03m#Finds all classes named \"year\"\u001b[39;00m\n\u001b[0;32m      2\u001b[0m all_years \u001b[38;5;241m=\u001b[39m soup_doc\u001b[38;5;241m.\u001b[39mfind_all(class_\u001b[38;5;241m=\u001b[39m\u001b[38;5;124m\"\u001b[39m\u001b[38;5;124myear\u001b[39m\u001b[38;5;124m\"\u001b[39m)\n\u001b[1;32m----> 3\u001b[0m \u001b[38;5;28;43mprint\u001b[39;49m\u001b[43m(\u001b[49m\u001b[43mall_years\u001b[49m\u001b[43m)\u001b[49m\u001b[38;5;241;43m.\u001b[39;49m\u001b[43mstring\u001b[49m\n",
      "\u001b[1;31mAttributeError\u001b[0m: 'NoneType' object has no attribute 'string'"
     ]
    }
   ],
   "source": [
    "#Finds all classes named \"year\"\n",
    "all_years = soup_doc.find_all(class_=\"year\")\n",
    "print(all_years).string\n",
    "#Try printing out just the years without any tags around them"
   ]
  },
  {
   "cell_type": "code",
   "execution_count": null,
   "metadata": {},
   "outputs": [],
   "source": [
    "#Finds any tag that has an id attribute in it\n",
    "fav = soup_doc.find_all(id=True)\n",
    "print(fav)"
   ]
  },
  {
   "cell_type": "code",
   "execution_count": null,
   "metadata": {},
   "outputs": [],
   "source": [
    "fav = soup_doc.find_all(id='favorite')\n",
    "print(fav)"
   ]
  },
  {
   "cell_type": "markdown",
   "metadata": {},
   "source": [
    "You can also search for any kind of attribute beyond id and class, and you can specify what kind of tag you want to look for that attribute in. This is very helpful for zoning in on specific parts of the webpage."
   ]
  },
  {
   "cell_type": "code",
   "execution_count": null,
   "metadata": {},
   "outputs": [],
   "source": [
    "fav = soup_doc.find_all('p', attrs={'id': 'favorite'})\n",
    "print(fav)"
   ]
  },
  {
   "cell_type": "markdown",
   "metadata": {
    "collapsed": true
   },
   "source": [
    "**Pulling out attributes**\n",
    "\n",
    "Not only can you search by attributes but you can pull out the information hidden inside a tag. The most common information you will want to get is a link. Like in this tag: \n",
    "`<a href=\"https://www.boxofficemojo.com/release/rl2791015937/\">more info</a>`\n",
    "\n",
    "URLs are found in `<a>` tags inside the `href` attribute."
   ]
  },
  {
   "cell_type": "code",
   "execution_count": null,
   "metadata": {},
   "outputs": [],
   "source": [
    "first_link = soup_doc.find('a')\n",
    "get_url = first_link['href']\n",
    "#Note that this works just like a key in a dictionary\n",
    "print(get_url)"
   ]
  },
  {
   "cell_type": "markdown",
   "metadata": {},
   "source": [
    "**Using that link!**\n",
    "\n",
    "Here I am taking a real link to box office mojo and scraping a table with some basic information about the movie--and turning that info into a dictionary!"
   ]
  },
  {
   "cell_type": "code",
   "execution_count": null,
   "metadata": {},
   "outputs": [],
   "source": [
    "raw_html2 = requests.get(get_url).content\n",
    "soup_doc2 = BeautifulSoup(raw_html2, \"html.parser\")\n",
    "print(soup_doc2.prettify())"
   ]
  },
  {
   "cell_type": "markdown",
   "metadata": {},
   "source": [
    "**Reading Structurally**\n",
    "\n",
    "When you are reading HTML source for the purposes of scraping, you are looking for the structure of the DOM tree and for unique identifiers within the parent/child nodes that will let you zone in on specific information.\n",
    "\n",
    "I want to pull out all of the box office information about Avengers. There is a whole lot on that page, and I just want the stuff in that table. After careful reading of the source, I noticed that the two main boundaries inside that table have unique class names, so I search for a tag with those classes."
   ]
  },
  {
   "cell_type": "code",
   "execution_count": null,
   "metadata": {},
   "outputs": [],
   "source": [
    "left_info = soup_doc2.find(class_=\"a-section a-spacing-none mojo-performance-summary-table\")\n",
    "\n",
    "print(left_info)"
   ]
  },
  {
   "cell_type": "code",
   "execution_count": null,
   "metadata": {},
   "outputs": [],
   "source": [
    "left_entry = left_info.find_all('div')\n",
    "#each_entry[0].get_text(strip=True)\n",
    "for entry in left_entry:\n",
    "    print(entry.get_text(\" \",strip=True).split(\" \"))\n",
    "    #print(entry.get_text(strip=True))"
   ]
  },
  {
   "cell_type": "code",
   "execution_count": null,
   "metadata": {},
   "outputs": [],
   "source": [
    "right_info = soup_doc2.find(class_=\"a-section a-spacing-none mojo-summary-values mojo-hidden-from-mobile\")\n",
    "each_field = right_info.find_all('div')\n",
    "each_field\n",
    "for field in each_field:\n",
    "    fields = field.find_all('span')\n",
    "    print(fields[0].string)\n",
    "    print(fields[1].get_text(\"||\",strip=True))\n",
    "    print(\"-----------\")"
   ]
  },
  {
   "cell_type": "markdown",
   "metadata": {},
   "source": [
    "Now I'm going to put all of those findings together, and make a **dictionary** out of the information posted on that page."
   ]
  },
  {
   "cell_type": "code",
   "execution_count": null,
   "metadata": {},
   "outputs": [],
   "source": [
    "avengers_dict = {}\n",
    "for entry in left_entry:\n",
    "    data_string = entry.get_text(\" \",strip=True)\n",
    "    data_list = data_string.split(\" \")\n",
    "    category = data_list[0].strip().lower()\n",
    "    value = data_list[-1].strip()\n",
    "    avengers_dict[category] = value\n",
    "for field in each_field:\n",
    "    fields = field.find_all('span')\n",
    "    category = fields[0].string.strip().lower().replace(' ','_')\n",
    "    value = fields[1].get_text(\"||\", strip=True)\n",
    "    avengers_dict[category] = value\n",
    "avengers_dict"
   ]
  },
  {
   "cell_type": "code",
   "execution_count": 20,
   "metadata": {},
   "outputs": [
    {
     "ename": "NameError",
     "evalue": "name 'avengers_dict' is not defined",
     "output_type": "error",
     "traceback": [
      "\u001b[1;31m---------------------------------------------------------------------------\u001b[0m",
      "\u001b[1;31mNameError\u001b[0m                                 Traceback (most recent call last)",
      "Cell \u001b[1;32mIn [20], line 1\u001b[0m\n\u001b[1;32m----> 1\u001b[0m \u001b[43mavengers_dict\u001b[49m[\u001b[38;5;124m'\u001b[39m\u001b[38;5;124mgenres\u001b[39m\u001b[38;5;124m'\u001b[39m]\n",
      "\u001b[1;31mNameError\u001b[0m: name 'avengers_dict' is not defined"
     ]
    }
   ],
   "source": [
    "avengers_dict['genres']"
   ]
  },
  {
   "cell_type": "code",
   "execution_count": null,
   "metadata": {},
   "outputs": [],
   "source": []
  }
 ],
 "metadata": {
  "kernelspec": {
   "display_name": "Python 3 (ipykernel)",
   "language": "python",
   "name": "python3"
  },
  "language_info": {
   "codemirror_mode": {
    "name": "ipython",
    "version": 3
   },
   "file_extension": ".py",
   "mimetype": "text/x-python",
   "name": "python",
   "nbconvert_exporter": "python",
   "pygments_lexer": "ipython3",
   "version": "3.11.0rc2"
  }
 },
 "nbformat": 4,
 "nbformat_minor": 2
}
