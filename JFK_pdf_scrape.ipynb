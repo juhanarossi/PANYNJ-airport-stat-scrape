{
 "cells": [
  {
   "cell_type": "code",
   "execution_count": 18,
   "id": "404ad34a",
   "metadata": {},
   "outputs": [],
   "source": [
    "import requests\n",
    "import os"
   ]
  },
  {
   "cell_type": "code",
   "execution_count": 12,
   "id": "3aba25ec",
   "metadata": {},
   "outputs": [],
   "source": [
    "# Generates links to pdfs featured on https://www.panynj.gov/airports/en/statistics-general-info.html\n",
    "years = [2022]\n",
    "months = ['JAN', 'FEB', 'MAR', 'APR', 'MAY', 'JUN', 'JUL', 'AUG', 'SEP', 'OCT', 'NOV', 'DEC']\n",
    "urls = []\n",
    "for year in years:\n",
    "  for month in months:    \n",
    "    one = f'https://www.panynj.gov/content/dam/airports/statistics/statistics-general-info/monthly-{year}/JFK_{month}_{year}.pdf'\n",
    "    urls.append(one)"
   ]
  },
  {
   "cell_type": "code",
   "execution_count": 19,
   "id": "8d65ffa4",
   "metadata": {},
   "outputs": [],
   "source": [
    "downloads_folder = os.path.join(os.path.expanduser(\"~\"), \"Downloads\")\n",
    "\n",
    "for url in urls:\n",
    "    response = requests.get(url) # Send a GET request to the URL\n",
    "    file_path = os.path.join(downloads_folder, f\"JFK_{url.split('/')[-1]}\")\n",
    "    with open(file_path, \"wb\") as file: # Open a new file with a descriptive name and write binary data\n",
    "        file.write(response.content) # Write the content of the response to the file\n"
   ]
  },
  {
   "cell_type": "code",
   "execution_count": 20,
   "id": "d5aa3ed4",
   "metadata": {},
   "outputs": [
    {
     "name": "stdout",
     "output_type": "stream",
     "text": [
      "<_io.BufferedWriter name='C:\\\\Users\\\\Juhana\\\\Downloads\\\\JFK_JFK_DEC_2022.pdf'>\n"
     ]
    }
   ],
   "source": [
    "print(file)"
   ]
  },
  {
   "cell_type": "code",
   "execution_count": null,
   "id": "f1948613",
   "metadata": {},
   "outputs": [],
   "source": []
  }
 ],
 "metadata": {
  "kernelspec": {
   "display_name": "Python 3 (ipykernel)",
   "language": "python",
   "name": "python3"
  },
  "language_info": {
   "codemirror_mode": {
    "name": "ipython",
    "version": 3
   },
   "file_extension": ".py",
   "mimetype": "text/x-python",
   "name": "python",
   "nbconvert_exporter": "python",
   "pygments_lexer": "ipython3",
   "version": "3.11.0rc2"
  }
 },
 "nbformat": 4,
 "nbformat_minor": 5
}
