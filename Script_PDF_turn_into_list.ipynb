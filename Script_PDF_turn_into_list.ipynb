{
 "cells": [
  {
   "cell_type": "code",
   "execution_count": 1,
   "metadata": {},
   "outputs": [],
   "source": [
    "import pdfminer"
   ]
  },
  {
   "cell_type": "code",
   "execution_count": 2,
   "metadata": {},
   "outputs": [],
   "source": [
    "from pdfminer.high_level import extract_text"
   ]
  },
  {
   "cell_type": "code",
   "execution_count": 3,
   "metadata": {},
   "outputs": [],
   "source": [
    "text = extract_text(\"JFK_traffic_stat_pdfs/raw_data/Individual_files/JFK_through_NOV2022.pdf\")"
   ]
  },
  {
   "cell_type": "code",
   "execution_count": 4,
   "metadata": {},
   "outputs": [
    {
     "data": {
      "text/plain": [
       "'January 2022 Traffic Report\\nAVIATION DEPARTMENT (Data As Of 3/2/2022)\\n\\nJFK\\n\\nYear over Year % Change in Revenue Passengers - 12 Months\\n\\n2500\\n\\n2000\\n\\n1500\\n\\n1000\\n\\n500\\n\\n0\\n\\n-500\\n\\n2090.1%\\n\\n1522.8%\\n\\n699.0%\\n\\n465.5%\\n\\n296.7%\\n\\n287.2%\\n\\n-42.0%\\n\\n-76.6%\\n\\n384.7%\\n\\n161.9%\\n\\n237.5%\\n\\n241.9%\\n\\nMar\\n\\nMay\\n\\nJul\\n\\nSep\\n\\nNov\\n\\nJan\\n\\nYear over Year % Change in Total Flights (Excl GA) - 12 Months\\n\\n* Cargo flights included in above totals\\n\\nYear over Year % Change in Cargo - 12 Months\\n\\nRevenue Passengers\\n\\nCurr Month % Change\\n\\n2,898,141\\n\\n161.9%\\n\\nDomestic\\n\\n1,570,057\\n\\nInternational\\n\\n1,328,084\\n\\n172.4%\\n\\n150.6%\\n\\nNon-Revenue\\n\\n94,762\\n\\n105.5%\\n\\nLoad Factors\\n\\nCurr Month\\n\\nDomestic\\n\\nInternational\\n\\n53.0%\\n\\n56.2%\\n\\nAvg Load Factor\\n\\nTotal Flights\\n\\nCurr Month % Change\\n\\n32,153\\n\\n112.3%\\n\\n31,853\\n\\n112.6%\\n\\n20,882\\n10,971\\n300\\n\\n156.8%\\n60.1%\\n86.3%\\n\\n1,141\\n\\n-32.8%\\n\\nExcl GA\\n\\nDomestic\\n\\nInternational\\n\\nGen Aviation\\n\\nCargo Flights*\\n\\nCargo (Short Tons)\\n\\nCurr Month % Change\\n\\n103,196\\n\\n-3.8%\\n\\nDomestic\\n\\nInternational\\n\\nMail\\n\\n35,540\\n\\n67,656\\n\\n4,937\\n\\n-5.8%\\n\\n-2.7%\\n\\n-17.7%\\n\\nTop 5 Declines in Revenue Passengers by Airline\\n\\nTop 5 Increases in Revenue Passengers by Airline\\n\\nAirline\\n\\nROYAL AIR MAROC\\n\\nEASTERN\\n\\nEVA\\n\\nCATHAY PACIFIC\\n\\nCHINA AIRLINES (CAL)\\n\\nPax Decline\\n\\n% Decline\\n\\nAirline\\n\\nPax Increase % Increase\\n\\n(6,639)\\n\\n(4,296)\\n\\n(392)\\n\\n(232)\\n\\n(114)\\n\\n-93.0%\\n\\n-62.2%\\n\\n-20.2%\\n\\n-14.4%\\n\\nJETBLUE AIRWAYS\\n\\nDELTA\\n\\nAMERICAN\\n\\nALASKA AIRLINES\\n\\n-100.0%\\n\\nEMIRATES AIRLINES\\n\\n492,133\\n\\n474,357\\n\\n339,992\\n\\n43,460\\n\\n41,435\\n\\n124.4%\\n\\n131.9%\\n\\n299.6%\\n\\n678.6%\\n\\n311.4%\\n\\nFor any questions, please contact Wendy Kim (wkim@panynj.gov) or Brian \\nLevine (blevine@panynj.gov) - Strategic Analysis & Forecasting\\n\\nReport Generated: 3/2/2022 10:49:11 AM\\n\\nPage: 1\\n\\n\\x0cJanuary 2022 Traffic Report\\nAVIATION DEPARTMENT (Data As Of 3/2/2022)\\n\\nJFK\\n\\n12 Months Ending Passenger & Freight Statistics\\n\\nTop 20 Airlines Ranking by Passengers & Freight: 12 Months Ending Jan 2022\\n\\nAirline Name\\n\\nDomestic\\n\\nInternational\\n\\nTotal Pax % of Tot\\n\\nAirline Name\\n\\nShort Tons % of Tot\\n\\nJETBLUE AIRWAYS\\n\\n7,204,096\\n\\n3,524,112\\n\\n10,728'"
      ]
     },
     "execution_count": 4,
     "metadata": {},
     "output_type": "execute_result"
    }
   ],
   "source": [
    "text[:2000]"
   ]
  },
  {
   "cell_type": "code",
   "execution_count": 5,
   "metadata": {},
   "outputs": [
    {
     "data": {
      "text/plain": [
       "10092"
      ]
     },
     "execution_count": 5,
     "metadata": {},
     "output_type": "execute_result"
    }
   ],
   "source": [
    "list_items = text.split(\"\\n\")\n",
    "len(list_items)\n"
   ]
  },
  {
   "cell_type": "code",
   "execution_count": 6,
   "metadata": {},
   "outputs": [
    {
     "name": "stdout",
     "output_type": "stream",
     "text": [
      "['January 2022 Traffic Report', 'AVIATION DEPARTMENT (Data As Of 3/2/2022)', '', 'JFK', '', 'Year over Year % Change in Revenue Passengers - 12 Months', '', '2500', '', '2000', '', '1500', '', '1000', '', '500', '', '0', '', '-500', '', '2090.1%', '', '1522.8%', '', '699.0%', '', '465.5%', '', '296.7%', '', '287.2%', '', '-42.0%', '', '-76.6%', '', '384.7%', '', '161.9%', '', '237.5%', '', '241.9%', '', 'Mar', '', 'May', '', 'Jul', '', 'Sep', '', 'Nov', '', 'Jan', '', 'Year over Year % Change in Total Flights (Excl GA) - 12 Months', '', '* Cargo flights included in above totals', '', 'Year over Year % Change in Cargo - 12 Months', '', 'Revenue Passengers', '', 'Curr Month % Change', '', '2,898,141', '', '161.9%', '', 'Domestic', '', '1,570,057', '', 'International', '', '1,328,084', '', '172.4%']\n"
     ]
    }
   ],
   "source": [
    "print(list_items[0:80])"
   ]
  },
  {
   "cell_type": "code",
   "execution_count": 17,
   "metadata": {},
   "outputs": [
    {
     "name": "stdout",
     "output_type": "stream",
     "text": [
      "2,898,141\n",
      "3,086,044\n",
      "4,212,363\n",
      "4,490,989\n",
      "4,816,950\n",
      "5,130,031\n",
      "5,517,761\n",
      "5,436,712\n",
      "4,961,303\n",
      "5,057,408\n",
      "4,699,547\n"
     ]
    }
   ],
   "source": [
    "figures = []\n",
    "for i, item in enumerate(list_items):\n",
    "    if item == \"Revenue Passengers\":\n",
    "        i + 4\n",
    "        print(list_items[i+4])\n",
    "        figures.append(list_items[i+4])\n",
    " "
   ]
  },
  {
   "cell_type": "code",
   "execution_count": 18,
   "metadata": {},
   "outputs": [
    {
     "data": {
      "text/plain": [
       "['2,898,141',\n",
       " '3,086,044',\n",
       " '4,212,363',\n",
       " '4,490,989',\n",
       " '4,816,950',\n",
       " '5,130,031',\n",
       " '5,517,761',\n",
       " '5,436,712',\n",
       " '4,961,303',\n",
       " '5,057,408',\n",
       " '4,699,547']"
      ]
     },
     "execution_count": 18,
     "metadata": {},
     "output_type": "execute_result"
    }
   ],
   "source": [
    "figures"
   ]
  },
  {
   "cell_type": "code",
   "execution_count": 19,
   "metadata": {},
   "outputs": [],
   "source": [
    "import pandas as pd"
   ]
  },
  {
   "cell_type": "code",
   "execution_count": 25,
   "metadata": {},
   "outputs": [
    {
     "data": {
      "text/html": [
       "<div>\n",
       "<style scoped>\n",
       "    .dataframe tbody tr th:only-of-type {\n",
       "        vertical-align: middle;\n",
       "    }\n",
       "\n",
       "    .dataframe tbody tr th {\n",
       "        vertical-align: top;\n",
       "    }\n",
       "\n",
       "    .dataframe thead th {\n",
       "        text-align: right;\n",
       "    }\n",
       "</style>\n",
       "<table border=\"1\" class=\"dataframe\">\n",
       "  <thead>\n",
       "    <tr style=\"text-align: right;\">\n",
       "      <th></th>\n",
       "      <th>0</th>\n",
       "    </tr>\n",
       "  </thead>\n",
       "  <tbody>\n",
       "    <tr>\n",
       "      <th>0</th>\n",
       "      <td>2,898,141</td>\n",
       "    </tr>\n",
       "    <tr>\n",
       "      <th>1</th>\n",
       "      <td>3,086,044</td>\n",
       "    </tr>\n",
       "    <tr>\n",
       "      <th>2</th>\n",
       "      <td>4,212,363</td>\n",
       "    </tr>\n",
       "    <tr>\n",
       "      <th>3</th>\n",
       "      <td>4,490,989</td>\n",
       "    </tr>\n",
       "    <tr>\n",
       "      <th>4</th>\n",
       "      <td>4,816,950</td>\n",
       "    </tr>\n",
       "    <tr>\n",
       "      <th>5</th>\n",
       "      <td>5,130,031</td>\n",
       "    </tr>\n",
       "    <tr>\n",
       "      <th>6</th>\n",
       "      <td>5,517,761</td>\n",
       "    </tr>\n",
       "    <tr>\n",
       "      <th>7</th>\n",
       "      <td>5,436,712</td>\n",
       "    </tr>\n",
       "    <tr>\n",
       "      <th>8</th>\n",
       "      <td>4,961,303</td>\n",
       "    </tr>\n",
       "    <tr>\n",
       "      <th>9</th>\n",
       "      <td>5,057,408</td>\n",
       "    </tr>\n",
       "    <tr>\n",
       "      <th>10</th>\n",
       "      <td>4,699,547</td>\n",
       "    </tr>\n",
       "  </tbody>\n",
       "</table>\n",
       "</div>"
      ],
      "text/plain": [
       "            0\n",
       "0   2,898,141\n",
       "1   3,086,044\n",
       "2   4,212,363\n",
       "3   4,490,989\n",
       "4   4,816,950\n",
       "5   5,130,031\n",
       "6   5,517,761\n",
       "7   5,436,712\n",
       "8   4,961,303\n",
       "9   5,057,408\n",
       "10  4,699,547"
      ]
     },
     "execution_count": 25,
     "metadata": {},
     "output_type": "execute_result"
    }
   ],
   "source": [
    "df = pd.DataFrame(figures)\n",
    "df"
   ]
  },
  {
   "cell_type": "code",
   "execution_count": 26,
   "metadata": {},
   "outputs": [],
   "source": [
    "df.to_excel(\"montly_JFK_data.xlsx\", index=False)\n"
   ]
  },
  {
   "cell_type": "code",
   "execution_count": null,
   "metadata": {},
   "outputs": [],
   "source": []
  }
 ],
 "metadata": {
  "kernelspec": {
   "display_name": "Python 3 (ipykernel)",
   "language": "python",
   "name": "python3"
  },
  "language_info": {
   "codemirror_mode": {
    "name": "ipython",
    "version": 3
   },
   "file_extension": ".py",
   "mimetype": "text/x-python",
   "name": "python",
   "nbconvert_exporter": "python",
   "pygments_lexer": "ipython3",
   "version": "3.11.0rc2"
  },
  "vscode": {
   "interpreter": {
    "hash": "65de3514c2093d7cf2865236cc502463c1679e0aae214bc84fb04981ce66d59a"
   }
  }
 },
 "nbformat": 4,
 "nbformat_minor": 2
}
