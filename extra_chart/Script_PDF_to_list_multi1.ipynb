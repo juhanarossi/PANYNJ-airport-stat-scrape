{
 "cells": [
  {
   "cell_type": "code",
   "execution_count": 1,
   "metadata": {},
   "outputs": [],
   "source": [
    "import pdfminer"
   ]
  },
  {
   "cell_type": "code",
   "execution_count": 2,
   "metadata": {},
   "outputs": [],
   "source": [
    "from pdfminer.high_level import extract_text"
   ]
  },
  {
   "attachments": {},
   "cell_type": "markdown",
   "metadata": {},
   "source": [
    "#### Below I used extract all the text from the pdfs."
   ]
  },
  {
   "cell_type": "code",
   "execution_count": 4,
   "metadata": {},
   "outputs": [],
   "source": [
    "text = extract_text(\"extra_raw_data/JFK_multiscrape1_combined.pdf\")"
   ]
  },
  {
   "cell_type": "code",
   "execution_count": 5,
   "metadata": {},
   "outputs": [
    {
     "data": {
      "text/plain": [
       "'January 2021 Traffic Report\\nAVIATION DEPARTMENT\\n\\nRevenue Passengers\\n\\nCurr Month % Change\\n\\n1,091,905\\n\\n-76.6%\\n\\nDomestic\\n\\nInternational\\n\\n563,853\\n\\n528,052\\n\\n-73.1%\\n\\n-79.4%\\n\\nLoad Factors\\n\\nCurr Month\\n\\nDomestic\\n\\nInternational\\n\\n54.8%\\n\\n41.6%\\n\\nTotal Flights\\n\\nYear over Year % Change in Revenue Passengers - 12 Months\\n\\nJFK\\n\\n20\\n\\n0\\n\\n-20\\n\\n-40\\n\\n-60\\n\\n-80\\n\\n-100\\n\\n0.3%\\n\\n-57.0%\\n\\n-98.4%\\n\\n-93.5%\\n-97.5%\\n\\n-89.5%\\n\\n-87.5%\\n\\n-85.9%\\n\\n-83.0%\\n\\n-78.1%\\n\\n-80.3%\\n\\n-76.6%\\n\\nAvg Load Factor\\n\\nMar\\n\\nMay\\n\\nJul\\n\\nSep\\n\\nNov\\n\\nJan\\n\\nYear over Year % Change in Total Flights (Excl GA) - 12 Months\\n\\nCurr Month % Change\\n\\n14,658\\n\\n-60.2%\\n\\n14,497\\n\\n-59.0%\\n\\n7,778\\n6,719\\n161\\n\\n1,663\\n\\n-63.5%\\n-52.2%\\n-88.9%\\n\\n64.3%\\n\\nExcl GA\\n\\nDomestic\\n\\nInternational\\n\\nGen Aviation\\n\\nCargo Flights*\\n\\n* Cargo flights included in above totals\\n\\nRevenue Cargo (Short Tons)\\n\\nYear over Year % Change in Revenue Cargo - 12 Months\\n\\nCurr Month % Change\\n\\n103,439\\n\\n4.2%\\n\\nDomestic\\n\\nInternational\\n\\n37,741\\n\\n65,699\\n\\n84.0%\\n\\n-16.6%\\n\\nMail\\n\\n5,956\\n\\n-17.4%\\n\\n10\\n\\n0\\n\\n-10\\n\\n-20\\n\\n-30\\n\\n-40\\n\\n4.4% 4.2%\\n\\n-2.2% -1.2%\\n\\n-7.5%\\n\\n-15.1%\\n\\n-14.8%\\n\\n-18.6%\\n\\n-13.6%\\n\\n-24.3%\\n\\n-25.8%\\n\\n-38.2%\\n\\nMar\\n\\nMay\\n\\nJul\\n\\nSep\\n\\nNov\\n\\nJan\\n\\nTop 5 Declines in Revenue Passengers by Airline\\n\\nTop 5 Increases in Revenue Passengers by Airline\\n\\nAirline\\n\\nDELTA\\n\\nJETBLUE AIRWAYS\\n\\nAMERICAN\\n\\nALASKA AIRLINES\\n\\nBRITISH AIRWAYS\\n\\nPax Decline\\n\\n% Decline\\n\\nAirline\\n\\nPax Increase % Increase\\n\\n(1,027,006)\\n\\n(661,440)\\n\\n(386,274)\\n\\n(105,333)\\n\\n(95,585)\\n\\n-74.1%\\n\\n-62.6%\\n\\n-79.3%\\n\\n-94.3%\\n\\n-94.9%\\n\\nEASTERN\\n\\nVOLARIS AIR\\n\\nVOLARIS COSTA RICA\\n\\n6,758\\n\\n2,440\\n\\n957\\n\\n4446.1%\\n\\n0.0%\\n\\n0.0%\\n\\nAny questions, please contact Brian Levine, Manager, Strategic Analysis & \\nForecasting at blevine@panynj.gov\\n\\nReport Generated: 5/21/2021 8:44:43 AM\\n\\nPage: 1\\n\\n\\x0cJanuary 2021 Traffic Report\\nAVIATION DEPARTMENT\\n\\nJFK\\n\\n12 Months Ending Passenger & Freight Statistics\\n\\nTop 20 Airlines Ranking by Passengers & Freight: 12 Months Ending Jan 2021\\n\\nAirline Name\\n\\nDomestic\\n\\nInternational\\n\\nTotal Pax % of Tot\\n\\nAirline Name\\n\\nShort Tons % of Tot\\n\\nJETBLUE AIRWAYS\\n\\n2,625,202\\n\\n1,430,713\\n\\n4,055,915\\n\\nDELTA'"
      ]
     },
     "execution_count": 5,
     "metadata": {},
     "output_type": "execute_result"
    }
   ],
   "source": [
    "text[:2000]"
   ]
  },
  {
   "attachments": {},
   "cell_type": "markdown",
   "metadata": {},
   "source": [
    "#### Below I break the text into a list of strings, each string representing a single phrase or data point."
   ]
  },
  {
   "cell_type": "code",
   "execution_count": 6,
   "metadata": {},
   "outputs": [
    {
     "data": {
      "text/plain": [
       "22564"
      ]
     },
     "execution_count": 6,
     "metadata": {},
     "output_type": "execute_result"
    }
   ],
   "source": [
    "list_items = text.split(\"\\n\")\n",
    "len(list_items)\n"
   ]
  },
  {
   "attachments": {},
   "cell_type": "markdown",
   "metadata": {},
   "source": [
    "#### Below I print a sample of the list to see what it looks like. I have inspected the January 2022 pdf, and I know that the data point I wish to extract is the figure '2,898,141'. "
   ]
  },
  {
   "cell_type": "code",
   "execution_count": 8,
   "metadata": {},
   "outputs": [
    {
     "name": "stdout",
     "output_type": "stream",
     "text": [
      "['January 2021 Traffic Report', 'AVIATION DEPARTMENT', '', 'Revenue Passengers', '', 'Curr Month % Change', '', '1,091,905', '', '-76.6%', '', 'Domestic', '', 'International', '', '563,853', '', '528,052', '', '-73.1%', '', '-79.4%', '', 'Load Factors', '', 'Curr Month', '', 'Domestic', '', 'International', '', '54.8%', '', '41.6%', '', 'Total Flights', '', 'Year over Year % Change in Revenue Passengers - 12 Months', '', 'JFK', '', '20', '', '0', '', '-20', '', '-40', '', '-60', '', '-80', '', '-100', '', '0.3%', '', '-57.0%', '', '-98.4%', '', '-93.5%', '-97.5%', '', '-89.5%', '', '-87.5%', '', '-85.9%', '', '-83.0%', '', '-78.1%', '', '-80.3%', '', '-76.6%', '', 'Avg Load Factor', '', 'Mar', '', 'May', '', 'Jul', '', 'Sep', '', 'Nov', '', 'Jan', '', 'Year over Year % Change in Total Flights (Excl GA) - 12 Months', '', 'Curr Month % Change', '', '14,658', '', '-60.2%', '', '14,497', '', '-59.0%', '', '7,778', '6,719', '161', '', '1,663', '', '-63.5%', '-52.2%', '-88.9%', '', '64.3%', '', 'Excl GA', '', 'Domestic', '']\n"
     ]
    }
   ],
   "source": [
    "print(list_items[0:120])"
   ]
  },
  {
   "attachments": {},
   "cell_type": "markdown",
   "metadata": {},
   "source": [
    "#### Here I create a loop that identifies the data point I want to extract and appends it to a list. I then print the list to see what it looks like."
   ]
  },
  {
   "cell_type": "code",
   "execution_count": 9,
   "metadata": {},
   "outputs": [
    {
     "name": "stdout",
     "output_type": "stream",
     "text": [
      "1,091,905\n",
      "969,873\n",
      "1,283,330\n",
      "1,790,997 2085.4%\n",
      "2,396,279 1650.4%\n",
      "2,963,848\n",
      "3,567,369\n",
      "3,663,085\n",
      "2,873,210\n",
      "2,972,947\n",
      "JFK\n",
      "JFK\n",
      "2,898,141\n",
      "3,086,044\n",
      "4,212,363\n",
      "4,490,989\n",
      "4,816,950\n",
      "5,130,031\n",
      "5,517,761\n",
      "5,436,712\n",
      "4,961,303\n",
      "5,057,408\n",
      "4,699,547\n",
      "4,868,087\n"
     ]
    }
   ],
   "source": [
    "figures = []\n",
    "for i, item in enumerate(list_items):\n",
    "    if item == \"Revenue Passengers\":\n",
    "        i + 4\n",
    "        print(list_items[i+4])\n",
    "        figures.append(list_items[i+4])\n",
    " "
   ]
  },
  {
   "cell_type": "code",
   "execution_count": 10,
   "metadata": {},
   "outputs": [
    {
     "data": {
      "text/plain": [
       "['1,091,905',\n",
       " '969,873',\n",
       " '1,283,330',\n",
       " '1,790,997 2085.4%',\n",
       " '2,396,279 1650.4%',\n",
       " '2,963,848',\n",
       " '3,567,369',\n",
       " '3,663,085',\n",
       " '2,873,210',\n",
       " '2,972,947',\n",
       " 'JFK',\n",
       " 'JFK',\n",
       " '2,898,141',\n",
       " '3,086,044',\n",
       " '4,212,363',\n",
       " '4,490,989',\n",
       " '4,816,950',\n",
       " '5,130,031',\n",
       " '5,517,761',\n",
       " '5,436,712',\n",
       " '4,961,303',\n",
       " '5,057,408',\n",
       " '4,699,547',\n",
       " '4,868,087']"
      ]
     },
     "execution_count": 10,
     "metadata": {},
     "output_type": "execute_result"
    }
   ],
   "source": [
    "figures"
   ]
  },
  {
   "attachments": {},
   "cell_type": "markdown",
   "metadata": {},
   "source": [
    "#### I turn to list that results from the loop into a dataframe which I then save as an excel file."
   ]
  },
  {
   "cell_type": "code",
   "execution_count": 12,
   "metadata": {},
   "outputs": [],
   "source": [
    "import pandas as pd"
   ]
  },
  {
   "cell_type": "code",
   "execution_count": 13,
   "metadata": {},
   "outputs": [
    {
     "data": {
      "text/html": [
       "<div>\n",
       "<style scoped>\n",
       "    .dataframe tbody tr th:only-of-type {\n",
       "        vertical-align: middle;\n",
       "    }\n",
       "\n",
       "    .dataframe tbody tr th {\n",
       "        vertical-align: top;\n",
       "    }\n",
       "\n",
       "    .dataframe thead th {\n",
       "        text-align: right;\n",
       "    }\n",
       "</style>\n",
       "<table border=\"1\" class=\"dataframe\">\n",
       "  <thead>\n",
       "    <tr style=\"text-align: right;\">\n",
       "      <th></th>\n",
       "      <th>0</th>\n",
       "    </tr>\n",
       "  </thead>\n",
       "  <tbody>\n",
       "    <tr>\n",
       "      <th>0</th>\n",
       "      <td>1,091,905</td>\n",
       "    </tr>\n",
       "    <tr>\n",
       "      <th>1</th>\n",
       "      <td>969,873</td>\n",
       "    </tr>\n",
       "    <tr>\n",
       "      <th>2</th>\n",
       "      <td>1,283,330</td>\n",
       "    </tr>\n",
       "    <tr>\n",
       "      <th>3</th>\n",
       "      <td>1,790,997 2085.4%</td>\n",
       "    </tr>\n",
       "    <tr>\n",
       "      <th>4</th>\n",
       "      <td>2,396,279 1650.4%</td>\n",
       "    </tr>\n",
       "    <tr>\n",
       "      <th>5</th>\n",
       "      <td>2,963,848</td>\n",
       "    </tr>\n",
       "    <tr>\n",
       "      <th>6</th>\n",
       "      <td>3,567,369</td>\n",
       "    </tr>\n",
       "    <tr>\n",
       "      <th>7</th>\n",
       "      <td>3,663,085</td>\n",
       "    </tr>\n",
       "    <tr>\n",
       "      <th>8</th>\n",
       "      <td>2,873,210</td>\n",
       "    </tr>\n",
       "    <tr>\n",
       "      <th>9</th>\n",
       "      <td>2,972,947</td>\n",
       "    </tr>\n",
       "    <tr>\n",
       "      <th>10</th>\n",
       "      <td>JFK</td>\n",
       "    </tr>\n",
       "    <tr>\n",
       "      <th>11</th>\n",
       "      <td>JFK</td>\n",
       "    </tr>\n",
       "    <tr>\n",
       "      <th>12</th>\n",
       "      <td>2,898,141</td>\n",
       "    </tr>\n",
       "    <tr>\n",
       "      <th>13</th>\n",
       "      <td>3,086,044</td>\n",
       "    </tr>\n",
       "    <tr>\n",
       "      <th>14</th>\n",
       "      <td>4,212,363</td>\n",
       "    </tr>\n",
       "    <tr>\n",
       "      <th>15</th>\n",
       "      <td>4,490,989</td>\n",
       "    </tr>\n",
       "    <tr>\n",
       "      <th>16</th>\n",
       "      <td>4,816,950</td>\n",
       "    </tr>\n",
       "    <tr>\n",
       "      <th>17</th>\n",
       "      <td>5,130,031</td>\n",
       "    </tr>\n",
       "    <tr>\n",
       "      <th>18</th>\n",
       "      <td>5,517,761</td>\n",
       "    </tr>\n",
       "    <tr>\n",
       "      <th>19</th>\n",
       "      <td>5,436,712</td>\n",
       "    </tr>\n",
       "    <tr>\n",
       "      <th>20</th>\n",
       "      <td>4,961,303</td>\n",
       "    </tr>\n",
       "    <tr>\n",
       "      <th>21</th>\n",
       "      <td>5,057,408</td>\n",
       "    </tr>\n",
       "    <tr>\n",
       "      <th>22</th>\n",
       "      <td>4,699,547</td>\n",
       "    </tr>\n",
       "    <tr>\n",
       "      <th>23</th>\n",
       "      <td>4,868,087</td>\n",
       "    </tr>\n",
       "  </tbody>\n",
       "</table>\n",
       "</div>"
      ],
      "text/plain": [
       "                    0\n",
       "0           1,091,905\n",
       "1             969,873\n",
       "2           1,283,330\n",
       "3   1,790,997 2085.4%\n",
       "4   2,396,279 1650.4%\n",
       "5           2,963,848\n",
       "6           3,567,369\n",
       "7           3,663,085\n",
       "8           2,873,210\n",
       "9           2,972,947\n",
       "10                JFK\n",
       "11                JFK\n",
       "12          2,898,141\n",
       "13          3,086,044\n",
       "14          4,212,363\n",
       "15          4,490,989\n",
       "16          4,816,950\n",
       "17          5,130,031\n",
       "18          5,517,761\n",
       "19          5,436,712\n",
       "20          4,961,303\n",
       "21          5,057,408\n",
       "22          4,699,547\n",
       "23          4,868,087"
      ]
     },
     "execution_count": 13,
     "metadata": {},
     "output_type": "execute_result"
    }
   ],
   "source": [
    "df = pd.DataFrame(figures)\n",
    "df"
   ]
  },
  {
   "cell_type": "code",
   "execution_count": 14,
   "metadata": {},
   "outputs": [],
   "source": [
    "df.to_excel(\"JFK_data_21and22.xlsx\", index=False)\n"
   ]
  },
  {
   "cell_type": "code",
   "execution_count": null,
   "metadata": {},
   "outputs": [],
   "source": []
  }
 ],
 "metadata": {
  "kernelspec": {
   "display_name": "Python 3 (ipykernel)",
   "language": "python",
   "name": "python3"
  },
  "language_info": {
   "codemirror_mode": {
    "name": "ipython",
    "version": 3
   },
   "file_extension": ".py",
   "mimetype": "text/x-python",
   "name": "python",
   "nbconvert_exporter": "python",
   "pygments_lexer": "ipython3",
   "version": "3.11.0rc2"
  },
  "vscode": {
   "interpreter": {
    "hash": "65de3514c2093d7cf2865236cc502463c1679e0aae214bc84fb04981ce66d59a"
   }
  }
 },
 "nbformat": 4,
 "nbformat_minor": 2
}
