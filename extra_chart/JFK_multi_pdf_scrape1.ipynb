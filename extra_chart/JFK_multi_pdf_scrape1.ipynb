{
 "cells": [
  {
   "cell_type": "code",
   "execution_count": 1,
   "id": "404ad34a",
   "metadata": {},
   "outputs": [],
   "source": [
    "import requests\n",
    "import os"
   ]
  },
  {
   "cell_type": "code",
   "execution_count": 2,
   "id": "3aba25ec",
   "metadata": {},
   "outputs": [],
   "source": [
    "# Generates links to pdfs featured on https://www.panynj.gov/airports/en/statistics-general-info.html\n",
    "years = [2021, 2022]\n",
    "months = ['JAN', 'FEB', 'MAR', 'APR', 'MAY', 'JUN', 'JUL', 'AUG', 'SEP', 'OCT', 'NOV', 'DEC']\n",
    "urls = []\n",
    "for year in years:\n",
    "  for month in months:    \n",
    "    one = f'https://www.panynj.gov/content/dam/airports/statistics/statistics-general-info/monthly-{year}/JFK_{month}_{year}.pdf'\n",
    "    urls.append(one)"
   ]
  },
  {
   "cell_type": "code",
   "execution_count": 3,
   "id": "8d65ffa4",
   "metadata": {},
   "outputs": [],
   "source": [
    "downloads_folder = os.path.join(os.path.expanduser(\"~\"), \"Downloads\")\n",
    "\n",
    "for url in urls:\n",
    "    response = requests.get(url) # Send a GET request to the URL\n",
    "    file_path = os.path.join(downloads_folder, f\"{url.split('/')[-1]}\")\n",
    "    with open(file_path, \"wb\") as file: # Open a new file with a descriptive name and write binary data\n",
    "        file.write(response.content) # Write the content of the response to the file\n"
   ]
  },
  {
   "cell_type": "code",
   "execution_count": 4,
   "id": "d5aa3ed4",
   "metadata": {},
   "outputs": [
    {
     "name": "stdout",
     "output_type": "stream",
     "text": [
      "<_io.BufferedWriter name='C:\\\\Users\\\\Juhana\\\\Downloads\\\\JFK_DEC_2022.pdf'>\n"
     ]
    }
   ],
   "source": [
    "print(file)"
   ]
  },
  {
   "cell_type": "code",
   "execution_count": null,
   "id": "f1948613",
   "metadata": {},
   "outputs": [],
   "source": []
  }
 ],
 "metadata": {
  "kernelspec": {
   "display_name": "Python 3",
   "language": "python",
   "name": "python3"
  },
  "language_info": {
   "codemirror_mode": {
    "name": "ipython",
    "version": 3
   },
   "file_extension": ".py",
   "mimetype": "text/x-python",
   "name": "python",
   "nbconvert_exporter": "python",
   "pygments_lexer": "ipython3",
   "version": "3.11.0rc2"
  },
  "vscode": {
   "interpreter": {
    "hash": "65de3514c2093d7cf2865236cc502463c1679e0aae214bc84fb04981ce66d59a"
   }
  }
 },
 "nbformat": 4,
 "nbformat_minor": 5
}
