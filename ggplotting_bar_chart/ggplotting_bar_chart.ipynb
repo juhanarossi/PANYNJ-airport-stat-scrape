{
 "cells": [
  {
   "cell_type": "markdown",
   "metadata": {},
   "source": [
    "# Python and R\n",
    "\n",
    "This setup allows you to use *Python* and *R* in the same notebook.\n",
    "\n",
    "To set up a similar notebook, see quickstart instructions here:\n",
    "\n",
    "https://github.com/dmil/jupyter-quickstart\n",
    "\n"
   ]
  },
  {
   "cell_type": "code",
   "execution_count": 1,
   "metadata": {},
   "outputs": [
    {
     "name": "stderr",
     "output_type": "stream",
     "text": [
      "c:\\Users\\Juhana\\scoop\\apps\\pyenv\\current\\pyenv-win\\versions\\3.11.0rc2\\Lib\\site-packages\\rpy2\\robjects\\packages.py:367: UserWarning: The symbol 'quartz' is not in this R namespace/package.\n",
      "  warnings.warn(\n"
     ]
    }
   ],
   "source": [
    "%load_ext rpy2.ipython\n",
    "%load_ext autoreload\n",
    "%autoreload 2\n",
    "\n",
    "%matplotlib inline  \n",
    "from matplotlib import rcParams\n",
    "rcParams['figure.figsize'] = (16, 100)\n",
    "\n",
    "import warnings\n",
    "from rpy2.rinterface import RRuntimeWarning\n",
    "warnings.filterwarnings(\"ignore\") # Ignore all warnings\n",
    "# warnings.filterwarnings(\"ignore\", category=RRuntimeWarning) # Show some warnings\n",
    "\n",
    "import pandas as pd\n",
    "import numpy as np\n",
    "import matplotlib.pyplot as plt\n",
    "from IPython.display import display, HTML"
   ]
  },
  {
   "cell_type": "code",
   "execution_count": 2,
   "metadata": {},
   "outputs": [
    {
     "data": {
      "application/javascript": "// Disable auto-scrolling\nIPython.OutputArea.prototype._should_scroll = function(lines) {\n    return false;\n}\n",
      "text/plain": [
       "<IPython.core.display.Javascript object>"
      ]
     },
     "metadata": {},
     "output_type": "display_data"
    }
   ],
   "source": [
    "%%javascript\n",
    "// Disable auto-scrolling\n",
    "IPython.OutputArea.prototype._should_scroll = function(lines) {\n",
    "    return false;\n",
    "}"
   ]
  },
  {
   "cell_type": "markdown",
   "metadata": {},
   "source": [
    "### Import packages"
   ]
  },
  {
   "cell_type": "code",
   "execution_count": 3,
   "metadata": {},
   "outputs": [
    {
     "name": "stderr",
     "output_type": "stream",
     "text": [
      "R[write to console]: Loading required package: tidyverse\n",
      "\n"
     ]
    },
    {
     "name": "stdout",
     "output_type": "stream",
     "text": [
      "-- Attaching packages --------------------------------------- tidyverse 1.3.2 --\n",
      "v ggplot2 3.4.0      v purrr   1.0.1 \n",
      "v tibble  3.1.8      v dplyr   1.0.10\n",
      "v tidyr   1.2.1      v stringr 1.4.1 \n",
      "v readr   2.1.3      v forcats 0.5.2 \n",
      "-- Conflicts ------------------------------------------ tidyverse_conflicts() --\n",
      "x dplyr::filter() masks stats::filter()\n",
      "x dplyr::lag()    masks stats::lag()\n"
     ]
    }
   ],
   "source": [
    "%%R\n",
    "\n",
    "require('tidyverse')\n"
   ]
  },
  {
   "cell_type": "markdown",
   "metadata": {},
   "source": [
    "**Another way to import a package**\n",
    "\n",
    "Note that sometimes you might see \n",
    "\n",
    "```R\n",
    "library('tidyverse')\n",
    "```\n",
    "\n",
    "that also imports a library just the same as `require`\n",
    "\n",
    "**A note about tidyverse**\n",
    "\n",
    "The [Tidyverse](https://www.tidyverse.org/packages/) package is actually a bunch of other packages put together. So sometimes, you might see something like\n",
    "\n",
    "```R\n",
    "require('ggplot2')\n",
    "require('readr')\n",
    "require('dplyr')\n",
    "require('tidyr')\n",
    "```\n",
    "\n",
    "This also achieves the same purpose, but sometimes we just import the pakcages we need instead of the whole tidyverse.\n",
    "\n",
    "\n"
   ]
  },
  {
   "cell_type": "markdown",
   "metadata": {},
   "source": [
    "### Read Data\n",
    "\n",
    "\n",
    "This uses a function in the readr package to read a CSV file. Check out all the other cool things readr can do (like read from an excel file or a google doc)\n",
    "\n",
    "https://readr.tidyverse.org/"
   ]
  },
  {
   "cell_type": "code",
   "execution_count": 4,
   "metadata": {},
   "outputs": [
    {
     "data": {
      "text/html": [
       "<div>\n",
       "<style scoped>\n",
       "    .dataframe tbody tr th:only-of-type {\n",
       "        vertical-align: middle;\n",
       "    }\n",
       "\n",
       "    .dataframe tbody tr th {\n",
       "        vertical-align: top;\n",
       "    }\n",
       "\n",
       "    .dataframe thead th {\n",
       "        text-align: right;\n",
       "    }\n",
       "</style>\n",
       "<table border=\"1\" class=\"dataframe\">\n",
       "  <thead>\n",
       "    <tr style=\"text-align: right;\">\n",
       "      <th></th>\n",
       "      <th>Year</th>\n",
       "      <th>Airport</th>\n",
       "      <th>Value</th>\n",
       "    </tr>\n",
       "  </thead>\n",
       "  <tbody>\n",
       "    <tr>\n",
       "      <th>0</th>\n",
       "      <td>2019</td>\n",
       "      <td>HEL</td>\n",
       "      <td>100.0</td>\n",
       "    </tr>\n",
       "    <tr>\n",
       "      <th>1</th>\n",
       "      <td>2019</td>\n",
       "      <td>JFK</td>\n",
       "      <td>100.0</td>\n",
       "    </tr>\n",
       "    <tr>\n",
       "      <th>2</th>\n",
       "      <td>2020</td>\n",
       "      <td>HEL</td>\n",
       "      <td>23.1</td>\n",
       "    </tr>\n",
       "    <tr>\n",
       "      <th>3</th>\n",
       "      <td>2020</td>\n",
       "      <td>JFK</td>\n",
       "      <td>26.6</td>\n",
       "    </tr>\n",
       "    <tr>\n",
       "      <th>4</th>\n",
       "      <td>2021</td>\n",
       "      <td>HEL</td>\n",
       "      <td>19.5</td>\n",
       "    </tr>\n",
       "    <tr>\n",
       "      <th>5</th>\n",
       "      <td>2021</td>\n",
       "      <td>JFK</td>\n",
       "      <td>49.2</td>\n",
       "    </tr>\n",
       "    <tr>\n",
       "      <th>6</th>\n",
       "      <td>2022</td>\n",
       "      <td>HEL</td>\n",
       "      <td>58.9</td>\n",
       "    </tr>\n",
       "    <tr>\n",
       "      <th>7</th>\n",
       "      <td>2022</td>\n",
       "      <td>JFK</td>\n",
       "      <td>80.4</td>\n",
       "    </tr>\n",
       "  </tbody>\n",
       "</table>\n",
       "</div>"
      ],
      "text/plain": [
       "   Year Airport  Value\n",
       "0  2019     HEL  100.0\n",
       "1  2019     JFK  100.0\n",
       "2  2020     HEL   23.1\n",
       "3  2020     JFK   26.6\n",
       "4  2021     HEL   19.5\n",
       "5  2021     JFK   49.2\n",
       "6  2022     HEL   58.9\n",
       "7  2022     JFK   80.4"
      ]
     },
     "execution_count": 4,
     "metadata": {},
     "output_type": "execute_result"
    }
   ],
   "source": [
    "df  = pd.read_csv('AirportComparison2.csv')\n",
    "df"
   ]
  },
  {
   "cell_type": "code",
   "execution_count": 5,
   "metadata": {},
   "outputs": [
    {
     "name": "stdout",
     "output_type": "stream",
     "text": [
      "Rows: 8 Columns: 3\n",
      "-- Column specification --------------------------------------------------------\n",
      "Delimiter: \",\"\n",
      "chr (1): Airport\n",
      "dbl (2): Year, Value\n",
      "\n",
      "i Use `spec()` to retrieve the full column specification for this data.\n",
      "i Specify the column types or set `show_col_types = FALSE` to quiet this message.\n",
      "# A tibble: 8 x 3\n",
      "   Year Airport Value\n",
      "  <dbl> <chr>   <dbl>\n",
      "1  2019 HEL     100  \n",
      "2  2019 JFK     100  \n",
      "3  2020 HEL      23.1\n",
      "4  2020 JFK      26.6\n",
      "5  2021 HEL      19.5\n",
      "6  2021 JFK      49.2\n",
      "7  2022 HEL      58.9\n",
      "8  2022 JFK      80.4\n"
     ]
    }
   ],
   "source": [
    "%%R\n",
    "\n",
    "# Read data\n",
    "df <- read_csv('AirportComparison2.csv')\n",
    "df"
   ]
  },
  {
   "cell_type": "code",
   "execution_count": 6,
   "metadata": {},
   "outputs": [
    {
     "data": {
      "image/png": "[encoded data removed]"
     },
     "metadata": {},
     "output_type": "display_data"
    }
   ],
   "source": [
    "%%R \n",
    "\n",
    "ggplot(df) +\n",
    "    aes(x = Year, y = Value, fill = Airport) +\n",
    "    geom_bar(stat='identity', position=position_dodge()) +\n",
    "    ##scale_y_continuous(limits = c(0,100), expand = c(0,0)) +\n",
    "    geom_hline(yintercept = 100, color = \"red\", linetype = \"dashed\")+\n",
    "    scale_fill_manual(values = c(\"HEL\" = \"blue\", \"JFK\" = \"green\")) \n",
    "    #theme(legend.position = \"none\") +\n",
    "    #labs(y = \"Value (2019 = 100)\")"
   ]
  },
  {
   "cell_type": "code",
   "execution_count": null,
   "metadata": {},
   "outputs": [],
   "source": []
  },
  {
   "cell_type": "code",
   "execution_count": null,
   "metadata": {},
   "outputs": [],
   "source": []
  },
  {
   "cell_type": "code",
   "execution_count": null,
   "metadata": {},
   "outputs": [],
   "source": []
  },
  {
   "cell_type": "code",
   "execution_count": null,
   "metadata": {},
   "outputs": [],
   "source": []
  },
  {
   "cell_type": "code",
   "execution_count": null,
   "metadata": {},
   "outputs": [],
   "source": []
  },
  {
   "cell_type": "code",
   "execution_count": 7,
   "metadata": {},
   "outputs": [
    {
     "name": "stdout",
     "output_type": "stream",
     "text": [
      "Error in `geom_bar()`:\n",
      "! Problem while computing aesthetics.\n",
      "i Error occurred in the 1st layer.\n",
      "Caused by error in `FUN()`:\n",
      "! object 'HEL' not found\n",
      "Run `rlang::last_error()` to see where the error occurred.\n"
     ]
    },
    {
     "ename": "RRuntimeError",
     "evalue": "Error in geom_bar(aes(fill = \"HEL\"), stat = \"identity\") : \ni Error occurred in the 1st layer.\nCaused by error in `FUN()`:\n! object 'HEL' not found\n",
     "output_type": "error",
     "traceback": [
      "\u001b[1;31m---------------------------------------------------------------------------\u001b[0m",
      "\u001b[1;31mRRuntimeError\u001b[0m                             Traceback (most recent call last)",
      "Cell \u001b[1;32mIn [7], line 1\u001b[0m\n\u001b[1;32m----> 1\u001b[0m get_ipython()\u001b[39m.\u001b[39;49mrun_cell_magic(\u001b[39m'\u001b[39;49m\u001b[39mR\u001b[39;49m\u001b[39m'\u001b[39;49m, \u001b[39m'\u001b[39;49m\u001b[39m'\u001b[39;49m, \u001b[39m'\u001b[39;49m\u001b[39m\\n\u001b[39;49;00m\u001b[39mdf$Year <- as.factor(df$Year)\u001b[39;49m\u001b[39m\\n\u001b[39;49;00m\u001b[39m\\n\u001b[39;49;00m\u001b[39mggplot(df, aes(x = Year, y = HEL)) +\u001b[39;49m\u001b[39m\\n\u001b[39;49;00m\u001b[39m  geom_bar(aes(fill = \u001b[39;49m\u001b[39m\"\u001b[39;49m\u001b[39mHEL\u001b[39;49m\u001b[39m\"\u001b[39;49m\u001b[39m), stat = \u001b[39;49m\u001b[39m\"\u001b[39;49m\u001b[39midentity\u001b[39;49m\u001b[39m\"\u001b[39;49m\u001b[39m) +\u001b[39;49m\u001b[39m\\n\u001b[39;49;00m\u001b[39m  geom_bar(aes(y = JFK), stat = \u001b[39;49m\u001b[39m\"\u001b[39;49m\u001b[39midentity\u001b[39;49m\u001b[39m\"\u001b[39;49m\u001b[39m, fill = \u001b[39;49m\u001b[39m\"\u001b[39;49m\u001b[39mJFK\u001b[39;49m\u001b[39m\"\u001b[39;49m\u001b[39m) +\u001b[39;49m\u001b[39m\\n\u001b[39;49;00m\u001b[39m  scale_y_continuous(limits = c(0,100), expand = c(0,0)) +\u001b[39;49m\u001b[39m\\n\u001b[39;49;00m\u001b[39m  geom_hline(yintercept = 100, color = \u001b[39;49m\u001b[39m\"\u001b[39;49m\u001b[39mred\u001b[39;49m\u001b[39m\"\u001b[39;49m\u001b[39m, linetype = \u001b[39;49m\u001b[39m\"\u001b[39;49m\u001b[39mdashed\u001b[39;49m\u001b[39m\"\u001b[39;49m\u001b[39m)+\u001b[39;49m\u001b[39m\\n\u001b[39;49;00m\u001b[39m  scale_fill_manual(values = c(\u001b[39;49m\u001b[39m\"\u001b[39;49m\u001b[39mHEL\u001b[39;49m\u001b[39m\"\u001b[39;49m\u001b[39m = \u001b[39;49m\u001b[39m\"\u001b[39;49m\u001b[39mblue\u001b[39;49m\u001b[39m\"\u001b[39;49m\u001b[39m, \u001b[39;49m\u001b[39m\"\u001b[39;49m\u001b[39mJFK\u001b[39;49m\u001b[39m\"\u001b[39;49m\u001b[39m = \u001b[39;49m\u001b[39m\"\u001b[39;49m\u001b[39mgreen\u001b[39;49m\u001b[39m\"\u001b[39;49m\u001b[39m)) +\u001b[39;49m\u001b[39m\\n\u001b[39;49;00m\u001b[39m  theme(legend.position = \u001b[39;49m\u001b[39m\"\u001b[39;49m\u001b[39mnone\u001b[39;49m\u001b[39m\"\u001b[39;49m\u001b[39m) +\u001b[39;49m\u001b[39m\\n\u001b[39;49;00m\u001b[39m  labs(y = \u001b[39;49m\u001b[39m\"\u001b[39;49m\u001b[39mValue (2019 = 100)\u001b[39;49m\u001b[39m\"\u001b[39;49m\u001b[39m)\u001b[39;49m\u001b[39m\\n\u001b[39;49;00m\u001b[39m'\u001b[39;49m)\n",
      "File \u001b[1;32mc:\\Users\\Juhana\\scoop\\apps\\pyenv\\current\\pyenv-win\\versions\\3.11.0rc2\\Lib\\site-packages\\IPython\\core\\interactiveshell.py:2362\u001b[0m, in \u001b[0;36mInteractiveShell.run_cell_magic\u001b[1;34m(self, magic_name, line, cell)\u001b[0m\n\u001b[0;32m   2360\u001b[0m \u001b[39mwith\u001b[39;00m \u001b[39mself\u001b[39m\u001b[39m.\u001b[39mbuiltin_trap:\n\u001b[0;32m   2361\u001b[0m     args \u001b[39m=\u001b[39m (magic_arg_s, cell)\n\u001b[1;32m-> 2362\u001b[0m     result \u001b[39m=\u001b[39m fn(\u001b[39m*\u001b[39;49margs, \u001b[39m*\u001b[39;49m\u001b[39m*\u001b[39;49mkwargs)\n\u001b[0;32m   2363\u001b[0m \u001b[39mreturn\u001b[39;00m result\n",
      "File \u001b[1;32mc:\\Users\\Juhana\\scoop\\apps\\pyenv\\current\\pyenv-win\\versions\\3.11.0rc2\\Lib\\site-packages\\rpy2\\ipython\\rmagic.py:860\u001b[0m, in \u001b[0;36mRMagics.R\u001b[1;34m(self, line, cell, local_ns)\u001b[0m\n\u001b[0;32m    852\u001b[0m                 \u001b[39mif\u001b[39;00m \u001b[39mself\u001b[39m\u001b[39m.\u001b[39mcache_display_data:\n\u001b[0;32m    853\u001b[0m                     stack\u001b[39m.\u001b[39menter_context(\n\u001b[0;32m    854\u001b[0m                         rpy2\u001b[39m.\u001b[39mrinterface_lib\n\u001b[0;32m    855\u001b[0m                         \u001b[39m.\u001b[39mcallbacks\n\u001b[1;32m   (...)\u001b[0m\n\u001b[0;32m    858\u001b[0m                                        \u001b[39m'\u001b[39m\u001b[39mconsolewrite_print\u001b[39m\u001b[39m'\u001b[39m,\n\u001b[0;32m    859\u001b[0m                                        \u001b[39mself\u001b[39m\u001b[39m.\u001b[39mwrite_console_regular))\n\u001b[1;32m--> 860\u001b[0m                 cell_display(result, args)\n\u001b[0;32m    861\u001b[0m                 text_output \u001b[39m+\u001b[39m\u001b[39m=\u001b[39m \u001b[39mself\u001b[39m\u001b[39m.\u001b[39mflush()\n\u001b[0;32m    863\u001b[0m \u001b[39mexcept\u001b[39;00m RInterpreterError \u001b[39mas\u001b[39;00m e:\n\u001b[0;32m    864\u001b[0m     \u001b[39m# TODO: Maybe we should make this red or something?\u001b[39;00m\n",
      "File \u001b[1;32mc:\\Users\\Juhana\\scoop\\apps\\pyenv\\current\\pyenv-win\\versions\\3.11.0rc2\\Lib\\site-packages\\rpy2\\ipython\\rmagic.py:129\u001b[0m, in \u001b[0;36mCELL_DISPLAY_DEFAULT\u001b[1;34m(res, args)\u001b[0m\n\u001b[0;32m    128\u001b[0m \u001b[39mdef\u001b[39;00m \u001b[39mCELL_DISPLAY_DEFAULT\u001b[39m(res, args):\n\u001b[1;32m--> 129\u001b[0m     \u001b[39mreturn\u001b[39;00m ro\u001b[39m.\u001b[39;49mr\u001b[39m.\u001b[39;49mshow(res)\n",
      "File \u001b[1;32mc:\\Users\\Juhana\\scoop\\apps\\pyenv\\current\\pyenv-win\\versions\\3.11.0rc2\\Lib\\site-packages\\rpy2\\robjects\\functions.py:204\u001b[0m, in \u001b[0;36mSignatureTranslatedFunction.__call__\u001b[1;34m(self, *args, **kwargs)\u001b[0m\n\u001b[0;32m    202\u001b[0m         v \u001b[39m=\u001b[39m kwargs\u001b[39m.\u001b[39mpop(k)\n\u001b[0;32m    203\u001b[0m         kwargs[r_k] \u001b[39m=\u001b[39m v\n\u001b[1;32m--> 204\u001b[0m \u001b[39mreturn\u001b[39;00m (\u001b[39msuper\u001b[39;49m(SignatureTranslatedFunction, \u001b[39mself\u001b[39;49m)\n\u001b[0;32m    205\u001b[0m         \u001b[39m.\u001b[39;49m\u001b[39m__call__\u001b[39;49m(\u001b[39m*\u001b[39;49margs, \u001b[39m*\u001b[39;49m\u001b[39m*\u001b[39;49mkwargs))\n",
      "File \u001b[1;32mc:\\Users\\Juhana\\scoop\\apps\\pyenv\\current\\pyenv-win\\versions\\3.11.0rc2\\Lib\\site-packages\\rpy2\\robjects\\functions.py:127\u001b[0m, in \u001b[0;36mFunction.__call__\u001b[1;34m(self, *args, **kwargs)\u001b[0m\n\u001b[0;32m    125\u001b[0m     \u001b[39melse\u001b[39;00m:\n\u001b[0;32m    126\u001b[0m         new_kwargs[k] \u001b[39m=\u001b[39m cv\u001b[39m.\u001b[39mpy2rpy(v)\n\u001b[1;32m--> 127\u001b[0m res \u001b[39m=\u001b[39m \u001b[39msuper\u001b[39;49m(Function, \u001b[39mself\u001b[39;49m)\u001b[39m.\u001b[39;49m\u001b[39m__call__\u001b[39;49m(\u001b[39m*\u001b[39;49mnew_args, \u001b[39m*\u001b[39;49m\u001b[39m*\u001b[39;49mnew_kwargs)\n\u001b[0;32m    128\u001b[0m res \u001b[39m=\u001b[39m cv\u001b[39m.\u001b[39mrpy2py(res)\n\u001b[0;32m    129\u001b[0m \u001b[39mreturn\u001b[39;00m res\n",
      "File \u001b[1;32mc:\\Users\\Juhana\\scoop\\apps\\pyenv\\current\\pyenv-win\\versions\\3.11.0rc2\\Lib\\site-packages\\rpy2\\rinterface_lib\\conversion.py:45\u001b[0m, in \u001b[0;36m_cdata_res_to_rinterface.<locals>._\u001b[1;34m(*args, **kwargs)\u001b[0m\n\u001b[0;32m     44\u001b[0m \u001b[39mdef\u001b[39;00m \u001b[39m_\u001b[39m(\u001b[39m*\u001b[39margs, \u001b[39m*\u001b[39m\u001b[39m*\u001b[39mkwargs):\n\u001b[1;32m---> 45\u001b[0m     cdata \u001b[39m=\u001b[39m function(\u001b[39m*\u001b[39;49margs, \u001b[39m*\u001b[39;49m\u001b[39m*\u001b[39;49mkwargs)\n\u001b[0;32m     46\u001b[0m     \u001b[39m# TODO: test cdata is of the expected CType\u001b[39;00m\n\u001b[0;32m     47\u001b[0m     \u001b[39mreturn\u001b[39;00m _cdata_to_rinterface(cdata)\n",
      "File \u001b[1;32mc:\\Users\\Juhana\\scoop\\apps\\pyenv\\current\\pyenv-win\\versions\\3.11.0rc2\\Lib\\site-packages\\rpy2\\rinterface.py:815\u001b[0m, in \u001b[0;36mSexpClosure.__call__\u001b[1;34m(self, *args, **kwargs)\u001b[0m\n\u001b[0;32m    808\u001b[0m     res \u001b[39m=\u001b[39m rmemory\u001b[39m.\u001b[39mprotect(\n\u001b[0;32m    809\u001b[0m         openrlib\u001b[39m.\u001b[39mrlib\u001b[39m.\u001b[39mR_tryEval(\n\u001b[0;32m    810\u001b[0m             call_r,\n\u001b[0;32m    811\u001b[0m             call_context\u001b[39m.\u001b[39m__sexp__\u001b[39m.\u001b[39m_cdata,\n\u001b[0;32m    812\u001b[0m             error_occured)\n\u001b[0;32m    813\u001b[0m     )\n\u001b[0;32m    814\u001b[0m     \u001b[39mif\u001b[39;00m error_occured[\u001b[39m0\u001b[39m]:\n\u001b[1;32m--> 815\u001b[0m         \u001b[39mraise\u001b[39;00m embedded\u001b[39m.\u001b[39mRRuntimeError(_rinterface\u001b[39m.\u001b[39m_geterrmessage())\n\u001b[0;32m    816\u001b[0m \u001b[39mreturn\u001b[39;00m res\n",
      "\u001b[1;31mRRuntimeError\u001b[0m: Error in geom_bar(aes(fill = \"HEL\"), stat = \"identity\") : \ni Error occurred in the 1st layer.\nCaused by error in `FUN()`:\n! object 'HEL' not found\n"
     ]
    }
   ],
   "source": [
    "%%R \n",
    "\n",
    "df$Year <- as.factor(df$Year)\n",
    "\n",
    "ggplot(df, aes(x = Year, y = HEL)) +\n",
    "  geom_bar(aes(fill = \"HEL\"), stat = \"identity\") +\n",
    "  geom_bar(aes(y = JFK), stat = \"identity\", fill = \"JFK\") +\n",
    "  scale_y_continuous(limits = c(0,100), expand = c(0,0)) +\n",
    "  geom_hline(yintercept = 100, color = \"red\", linetype = \"dashed\")+\n",
    "  scale_fill_manual(values = c(\"HEL\" = \"blue\", \"JFK\" = \"green\")) +\n",
    "  theme(legend.position = \"none\") +\n",
    "  labs(y = \"Value (2019 = 100)\")"
   ]
  },
  {
   "cell_type": "code",
   "execution_count": null,
   "metadata": {},
   "outputs": [],
   "source": []
  }
 ],
 "metadata": {
  "kernelspec": {
   "display_name": "Python 3",
   "language": "python",
   "name": "python3"
  },
  "language_info": {
   "codemirror_mode": {
    "name": "ipython",
    "version": 3
   },
   "file_extension": ".py",
   "mimetype": "text/x-python",
   "name": "python",
   "nbconvert_exporter": "python",
   "pygments_lexer": "ipython3",
   "version": "3.11.0rc2"
  },
  "vscode": {
   "interpreter": {
    "hash": "65de3514c2093d7cf2865236cc502463c1679e0aae214bc84fb04981ce66d59a"
   }
  }
 },
 "nbformat": 4,
 "nbformat_minor": 2
}
